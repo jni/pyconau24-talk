{
 "cells": [
  {
   "cell_type": "markdown",
   "id": "3078fb91",
   "metadata": {},
   "source": [
    "# Explore, annotate, and analyze multi-dimensional images in Python with napari"
   ]
  },
  {
   "cell_type": "markdown",
   "id": "160bddb6",
   "metadata": {},
   "source": [
    "## 1.1 – a *fast* 2D viewer"
   ]
  },
  {
   "cell_type": "code",
   "execution_count": 1,
   "id": "9a24c795",
   "metadata": {},
   "outputs": [],
   "source": [
    "import numpy as np\n",
    "import matplotlib.pyplot as plt\n",
    "import napari"
   ]
  },
  {
   "cell_type": "code",
   "execution_count": 2,
   "id": "b76f31c6",
   "metadata": {},
   "outputs": [],
   "source": [
    "import tifffile\n",
    "\n",
    "image = tifffile.imread(\n",
    "    '/Users/jni/projects/demos/spatialdata-sandbox/'\n",
    "    'visium_io/data/Visium_Mouse_Olfactory_Bulb_image.tif'\n",
    ")"
   ]
  },
  {
   "cell_type": "code",
   "execution_count": 3,
   "id": "64b0b763",
   "metadata": {},
   "outputs": [
    {
     "data": {
      "text/plain": [
       "(10000, 10000, 4)"
      ]
     },
     "execution_count": 3,
     "metadata": {},
     "output_type": "execute_result"
    }
   ],
   "source": [
    "image.shape"
   ]
  },
  {
   "cell_type": "code",
   "execution_count": 4,
   "id": "ebf04593",
   "metadata": {},
   "outputs": [],
   "source": [
    "%matplotlib qt"
   ]
  },
  {
   "cell_type": "code",
   "execution_count": 5,
   "id": "62272b40",
   "metadata": {},
   "outputs": [
    {
     "data": {
      "text/plain": [
       "<matplotlib.image.AxesImage at 0x17f1da2d0>"
      ]
     },
     "execution_count": 5,
     "metadata": {},
     "output_type": "execute_result"
    }
   ],
   "source": [
    "plt.imshow(image)"
   ]
  },
  {
   "cell_type": "code",
   "execution_count": 6,
   "id": "378b0a1d",
   "metadata": {},
   "outputs": [
    {
     "name": "stderr",
     "output_type": "stream",
     "text": [
      "# 2024-11-06 14:58:05,130 INFO OpenGL.acceleratesupport acceleratesupport.py:17 -- No OpenGL_accelerate module loaded: No module named 'OpenGL_accelerate'\n",
      "\n"
     ]
    }
   ],
   "source": [
    "viewer, layer = napari.imshow(image)"
   ]
  },
  {
   "cell_type": "markdown",
   "id": "5c993d72",
   "metadata": {},
   "source": [
    "## 1.2 – a *multidimensional* viewer"
   ]
  },
  {
   "cell_type": "markdown",
   "id": "e62023a5-0b73-4ddf-9615-44a7ae9be6c3",
   "metadata": {},
   "source": [
    "### 3D multichannel cells"
   ]
  },
  {
   "cell_type": "code",
   "execution_count": 9,
   "id": "0140b861",
   "metadata": {},
   "outputs": [
    {
     "data": {
      "text/plain": [
       "(60, 2, 256, 256)"
      ]
     },
     "execution_count": 9,
     "metadata": {},
     "output_type": "execute_result"
    }
   ],
   "source": [
    "from skimage import data\n",
    "\n",
    "cells = data.cells3d()\n",
    "\n",
    "cells.shape"
   ]
  },
  {
   "cell_type": "code",
   "execution_count": 10,
   "id": "ec633b57",
   "metadata": {},
   "outputs": [
    {
     "data": {
      "text/plain": [
       "\u001b[0;31mSignature:\u001b[0m \u001b[0mdata\u001b[0m\u001b[0;34m.\u001b[0m\u001b[0mcells3d\u001b[0m\u001b[0;34m(\u001b[0m\u001b[0;34m)\u001b[0m\u001b[0;34m\u001b[0m\u001b[0;34m\u001b[0m\u001b[0m\n",
       "\u001b[0;31mDocstring:\u001b[0m\n",
       "3D fluorescence microscopy image of cells.\n",
       "\n",
       "The returned data is a 3D multichannel array with dimensions provided in\n",
       "``(z, c, y, x)`` order. Each voxel has a size of ``(0.29 0.26 0.26)``\n",
       "micrometer. Channel 0 contains cell membranes, channel 1 contains nuclei.\n",
       "\n",
       "Returns\n",
       "-------\n",
       "cells3d: (60, 2, 256, 256) uint16 ndarray\n",
       "    The volumetric images of cells taken with an optical microscope.\n",
       "\n",
       "Notes\n",
       "-----\n",
       "The data for this was provided by the Allen Institute for Cell Science.\n",
       "\n",
       "It has been downsampled by a factor of 4 in the row and column dimensions\n",
       "to reduce computational time.\n",
       "\n",
       "The microscope reports the following voxel spacing in microns:\n",
       "\n",
       "    * Original voxel size is ``(0.290, 0.065, 0.065)``.\n",
       "    * Scaling factor is ``(1, 4, 4)`` in each dimension.\n",
       "    * After rescaling the voxel size is ``(0.29 0.26 0.26)``.\n",
       "\u001b[0;31mFile:\u001b[0m      ~/micromamba/envs/amms/lib/python3.12/site-packages/skimage/data/_fetchers.py\n",
       "\u001b[0;31mType:\u001b[0m      function"
      ]
     },
     "metadata": {},
     "output_type": "display_data"
    }
   ],
   "source": [
    "data.cells3d?"
   ]
  },
  {
   "cell_type": "code",
   "execution_count": 11,
   "id": "cb68b681",
   "metadata": {},
   "outputs": [],
   "source": [
    "viewer, layer = napari.imshow(\n",
    "        cells,\n",
    "        channel_axis=1,\n",
    "        scale=[0.29, 0.26, 0.26],\n",
    "        )"
   ]
  },
  {
   "cell_type": "markdown",
   "id": "10ed0f68-ac22-42b8-8033-244204474cbe",
   "metadata": {},
   "source": [
    "### CryoET Dynamo PCA analysis\n",
    "\n",
    "Credit: Alister Burt (currently at Genentech)"
   ]
  },
  {
   "cell_type": "code",
   "execution_count": 12,
   "id": "c28cec2c-6799-419a-aa80-fa932311b841",
   "metadata": {},
   "outputs": [],
   "source": [
    "from pathlib import Path\n",
    "from functools import cached_property\n",
    "\n",
    "import pandas as pd\n",
    "import numpy as np\n",
    "import mrcfile\n",
    "\n",
    "\n",
    "class DPCAA:\n",
    "    def __init__(self, eigenvolumes_dir, eigentable_file):\n",
    "        self.eigenvolumes_dir = Path(eigenvolumes_dir)\n",
    "        self.eigentable_file = eigentable_file\n",
    "    \n",
    "    @cached_property\n",
    "    def eigenvolumes(self):\n",
    "        volume_files = list(self.eigenvolumes_dir.glob('*.mrc'))\n",
    "        df = pd.DataFrame({'path' : volume_files}).sort_values(by='path')\n",
    "        df['eigenvolume'] = df['path'].apply(lambda x: mrcfile.open(x).data)\n",
    "        eigenvolumes = np.stack(df['eigenvolume'])\n",
    "        return eigenvolumes\n",
    "\n",
    "    @cached_property\n",
    "    def eigentable(self):\n",
    "        return np.loadtxt(self.eigentable_file, delimiter=',')\n",
    "\n",
    "    def spectral_average_from_coefficients(self, coefficients, normalise=True):\n",
    "        coefficients = coefficients.squeeze()[..., np.newaxis, np.newaxis, np.newaxis]\n",
    "        spectral_average = (coefficients * self.eigenvolumes).sum(axis=-4)\n",
    "\n",
    "        if normalise:\n",
    "            spectral_average = self._normalise_volume(spectral_average)\n",
    "\n",
    "        return spectral_average\n",
    "\n",
    "    def spectral_average_from_idx(self, idx):\n",
    "        \"\"\"generate spectral average from particles at idx\n",
    "        \"\"\"\n",
    "        coefficients = self._coefficients_from_idx(idx)\n",
    "        return self.spectral_average_from_coefficients(coefficients)\n",
    "\n",
    "    def _coefficients_from_idx(self, idx):\n",
    "        \"\"\"generate coefficients from a set of particles at idx\n",
    "        \"\"\"\n",
    "        return self.eigentable[idx, :].sum(axis=0)\n",
    "\n",
    "    def _generate_volume_series(self, eig, n_bins=10, qcut=True):\n",
    "        eig_coefficients = self.eigentable[:, eig]\n",
    "\n",
    "        if qcut:\n",
    "            cut = pd.qcut(eig_coefficients, n_bins)\n",
    "        else:\n",
    "            cut = pd.cut(eig_coefficients, n_bins)\n",
    "\n",
    "        volumes = [self.spectral_average_from_idx(cut == subset) for subset in cut.categories]\n",
    "        return np.stack(volumes)\n",
    "\n",
    "    def _generate_volume_series_vectorised(self, eig, n_bins=10, qcut=True):\n",
    "        eig_coefficients = self.eigentable[:, eig]\n",
    "\n",
    "        if qcut:\n",
    "            cut = pd.qcut(eig_coefficients, n_bins)\n",
    "        else:\n",
    "            cut = pd.cut(eig_coefficients, n_bins)\n",
    "\n",
    "        coefficients = np.stack(\n",
    "            [self._coefficients_from_idx(cut == subset) for subset in cut.categories]\n",
    "        )\n",
    "        volumes = self.spectral_average_from_coefficients(coefficients)\n",
    "        return volumes\n",
    "\n",
    "    def _normalise_volume(self, volume):\n",
    "        \"\"\"independently normalise a stack of volumes to mean 0 standard deviation 1\n",
    "        \"\"\"\n",
    "        volume_axes = (-1, -2, -3)\n",
    "        volume_mean = np.expand_dims(volume.mean(axis=volume_axes), axis=volume_axes)\n",
    "        volume_std = np.expand_dims(volume.std(axis=volume_axes), axis=volume_axes)\n",
    "        return (volume - volume_mean) / volume_std\n"
   ]
  },
  {
   "cell_type": "code",
   "execution_count": 13,
   "id": "be6f26cd-8940-4f5e-8f0b-a847c3bcf211",
   "metadata": {},
   "outputs": [
    {
     "data": {
      "text/plain": [
       "<Image layer 'volumes' at 0x37d57e300>"
      ]
     },
     "execution_count": 13,
     "metadata": {},
     "output_type": "execute_result"
    }
   ],
   "source": [
    "from pathlib import Path\n",
    "\n",
    "folder = Path('WM4196')\n",
    "eigenvolumes = folder / 'eigenvolumes'\n",
    "eigentable = folder / 'eigentable.csv'\n",
    "\n",
    "pca = DPCAA(eigenvolumes_dir=eigenvolumes, eigentable_file=eigentable)\n",
    "\n",
    "viewer = napari.Viewer()\n",
    "\n",
    "n_bins = 10\n",
    "\n",
    "volumes = np.stack([\n",
    "        pca._generate_volume_series(comp, n_bins=n_bins, qcut=True)\n",
    "        for comp in range(50)\n",
    "        ])\n",
    "\n",
    "viewer.add_image(volumes)"
   ]
  },
  {
   "cell_type": "markdown",
   "id": "b80dd83f",
   "metadata": {},
   "source": [
    "## 2 – a *layered* viewer"
   ]
  },
  {
   "cell_type": "markdown",
   "id": "db451914-2ca0-45d3-b64f-6fed254dd2f7",
   "metadata": {},
   "source": [
    "### overlay images, segmentations, point detections, and more"
   ]
  },
  {
   "cell_type": "code",
   "execution_count": 14,
   "id": "d6c36d67-b6dd-4a28-849d-ed72fda96532",
   "metadata": {},
   "outputs": [],
   "source": [
    "from skimage import data\n",
    "\n",
    "coins = data.coins()[50:-50, 50:-50]\n",
    "\n",
    "viewer, im_layer = napari.imshow(coins)"
   ]
  },
  {
   "cell_type": "code",
   "execution_count": 15,
   "id": "cfd49702-8870-45bc-8bca-5faa1247de40",
   "metadata": {},
   "outputs": [],
   "source": [
    "from skimage import filters, measure, morphology, segmentation\n",
    "\n",
    "thresholded = filters.threshold_otsu(coins) < coins\n",
    "closed = morphology.closing(thresholded, morphology.square(4))\n",
    "no_border = segmentation.clear_border(closed)\n",
    "cleaned = morphology.remove_small_objects(no_border, 20)\n",
    "\n",
    "segmented = measure.label(cleaned).astype(np.uint8)\n",
    "\n",
    "label_layer = viewer.add_labels(segmented)"
   ]
  },
  {
   "cell_type": "code",
   "execution_count": 16,
   "id": "7eb8a455-bec0-493d-96b3-fc134c017b13",
   "metadata": {},
   "outputs": [],
   "source": [
    "centroids = np.array([p.centroid for p in measure.regionprops(segmented)])\n",
    "pts_layer = viewer.add_points(centroids, size=5)"
   ]
  },
  {
   "cell_type": "markdown",
   "id": "f3e6d18e-7d9f-4035-a203-c1ec705a859f",
   "metadata": {},
   "source": [
    "(TODO: We need a cool shapes layer demo)"
   ]
  },
  {
   "cell_type": "markdown",
   "id": "df4d2e00",
   "metadata": {},
   "source": [
    "### cryoET particle picking refinement\n",
    "\n",
    "Credit: Alister Burt (currently at Genentech)\n",
    "\n",
    "Code: https://github.com/alisterburt/napari-cryo-et-demo  \n",
    "Data: https://www.ebi.ac.uk/empiar/EMPIAR-10164/"
   ]
  },
  {
   "cell_type": "code",
   "execution_count": 19,
   "id": "c01d6e08-aeb2-4f6b-b98c-f33a6433fc11",
   "metadata": {},
   "outputs": [],
   "source": [
    "import mrcfile\n",
    "\n",
    "# files containing data\n",
    "tomogram_file = '/Users/jni/data/napari-cryo-et-demo/hiv/01_10.00Apx.mrc'\n",
    "particles_file = '/Users/jni/data/napari-cryo-et-demo/hiv/01_10.00Apx_particles.star'\n",
    "\n",
    "# loading data into memory\n",
    "# tomogram is a numpy array containing image array data\n",
    "with mrcfile.open(tomogram_file) as mrc:\n",
    "    tomogram = mrc.data.copy()\n",
    "\n",
    "viewer, tomo_layer = napari.imshow(\n",
    "        tomogram,\n",
    "        blending='translucent_no_depth',\n",
    "        colormap='gray_r',\n",
    "        )"
   ]
  },
  {
   "attachments": {},
   "cell_type": "markdown",
   "id": "7c6a663f-73b2-42ea-b969-6bf1979e8c23",
   "metadata": {},
   "source": [
    "![sphere picking](static/sphere-annotator.gif)"
   ]
  },
  {
   "cell_type": "markdown",
   "id": "64b053fb-cdc0-4225-ad8e-58eebb0e2ae0",
   "metadata": {},
   "source": [
    "![sphere fitting](https://teamtomo.org/_images/hiv-oversampling1.png)\n",
    "\n",
    "from https://teamtomo.org/walkthroughs/EMPIAR-10164/geometrical-picking.html"
   ]
  },
  {
   "cell_type": "code",
   "execution_count": 20,
   "id": "99953ba7-7e88-4aa5-b16d-4df37abe89a3",
   "metadata": {},
   "outputs": [],
   "source": [
    "import starfile\n",
    "from scipy.spatial.transform import Rotation as R\n",
    "\n",
    "# df is a pandas DataFrame containing table of info from STAR file\n",
    "# including positions and orientations\n",
    "df = starfile.read(particles_file)\n",
    "\n",
    "# get particle positions as (n, 3) numpy array from DataFrame\n",
    "zyx = df[\n",
    "        ['rlnCoordinateZ', 'rlnCoordinateY', 'rlnCoordinateX']\n",
    "        ].to_numpy()\n",
    "\n",
    "pts_layer = viewer.add_points(\n",
    "        zyx,\n",
    "        face_color='cornflowerblue',\n",
    "        size=10,\n",
    "        )"
   ]
  },
  {
   "cell_type": "code",
   "execution_count": 21,
   "id": "07a496c2-d640-43c8-a479-9d7ab3e538f7",
   "metadata": {},
   "outputs": [],
   "source": [
    "# get particle orientations as Euler angles from DataFrame\n",
    "euler_angles = df[\n",
    "        ['rlnAngleRot', 'rlnAngleTilt', 'rlnAnglePsi']\n",
    "        ].to_numpy()\n",
    "\n",
    "# turn Euler angles into a scipy 'Rotation' object, rotate Z vectors to see\n",
    "# where they point for the aligned particle\n",
    "rotations = R.from_euler(\n",
    "        seq='ZYZ', angles=euler_angles, degrees=True\n",
    "        ).inv()\n",
    "direction_xyz = rotations.apply([0, 0, 1])\n",
    "direction_zyx = direction_xyz[:, ::-1]\n",
    "\n",
    "# set up napari vectors layer data\n",
    "# (n, 2, 3) array\n",
    "# dim 0: batch dimension\n",
    "# dim 1: first row is start point of vector,\n",
    "#        second is direction vector\n",
    "# dim 2: components of direction vector e.g. (z, y, x)\n",
    "\n",
    "vectors = np.stack((zyx, direction_zyx), axis=1)\n",
    "\n",
    "vec_layer = viewer.add_vectors(\n",
    "        vectors, length=10, edge_color='orange'\n",
    "        )"
   ]
  },
  {
   "cell_type": "markdown",
   "id": "e5d2fda0-9522-4c13-80d8-3b0ef6e7ce4e",
   "metadata": {},
   "source": [
    "![reconstruction](https://teamtomo.org/_images/result2.png)\n",
    "\n",
    "from https://teamtomo.org/walkthroughs/EMPIAR-10164/m.html"
   ]
  },
  {
   "cell_type": "code",
   "execution_count": 22,
   "id": "aa0bd1c0-b9ad-4761-919e-03565c536ba1",
   "metadata": {},
   "outputs": [],
   "source": [
    "pts_data = pts_layer.data"
   ]
  },
  {
   "cell_type": "code",
   "execution_count": 23,
   "id": "c5bd347a-65d2-494c-91ab-9d46d6ec5d90",
   "metadata": {},
   "outputs": [
    {
     "data": {
      "text/plain": [
       "numpy.ndarray"
      ]
     },
     "execution_count": 23,
     "metadata": {},
     "output_type": "execute_result"
    }
   ],
   "source": [
    "type(pts_data)"
   ]
  },
  {
   "cell_type": "markdown",
   "id": "82ab5067-5d22-40e5-9344-460e33132e7f",
   "metadata": {},
   "source": [
    "## 3 – an *annotation* and *proofreading* tool"
   ]
  },
  {
   "cell_type": "markdown",
   "id": "121aa544-38eb-400e-a561-755aca6ff06b",
   "metadata": {},
   "source": [
    "### interactive segmentation of 3D cells\n",
    "\n",
    "Semi-automated methods in Python."
   ]
  },
  {
   "cell_type": "code",
   "execution_count": 24,
   "id": "73e229bc",
   "metadata": {},
   "outputs": [],
   "source": [
    "viewer, (membrane_layer, nuclei_layer) = napari.imshow(\n",
    "        cells,\n",
    "        channel_axis=1,\n",
    "        name=['membrane', 'nuclei'],\n",
    "        )"
   ]
  },
  {
   "cell_type": "code",
   "execution_count": 25,
   "id": "6f45942e",
   "metadata": {},
   "outputs": [],
   "source": [
    "# grab individual channels and convert to float in [0, 1]\n",
    "\n",
    "membranes = cells[:, 0, :, :] / np.max(cells)\n",
    "nuclei = cells[:, 1, :, :] / np.max(cells)"
   ]
  },
  {
   "cell_type": "code",
   "execution_count": 26,
   "id": "9579331d",
   "metadata": {},
   "outputs": [],
   "source": [
    "from skimage import filters\n",
    "\n",
    "\n",
    "edges = filters.farid(nuclei)\n",
    "\n",
    "edges_layer = viewer.add_image(\n",
    "        edges,\n",
    "        blending='additive',\n",
    "        colormap='yellow',\n",
    "        )"
   ]
  },
  {
   "cell_type": "code",
   "execution_count": 27,
   "id": "25e4a322",
   "metadata": {},
   "outputs": [],
   "source": [
    "from scipy import ndimage as ndi\n",
    "\n",
    "denoised = ndi.median_filter(nuclei, size=3)"
   ]
  },
  {
   "cell_type": "code",
   "execution_count": 28,
   "id": "4b6fcdc0",
   "metadata": {},
   "outputs": [],
   "source": [
    "li_thresholded = denoised > filters.threshold_li(denoised)\n",
    "\n",
    "threshold_layer = viewer.add_image(\n",
    "        li_thresholded,\n",
    "        opacity=0.3,\n",
    "        )"
   ]
  },
  {
   "cell_type": "code",
   "execution_count": 29,
   "id": "48a87fc4",
   "metadata": {},
   "outputs": [],
   "source": [
    "from skimage import morphology\n",
    "\n",
    "width = 20\n",
    "\n",
    "holes_removed = morphology.remove_small_holes(\n",
    "        li_thresholded, width ** 3\n",
    "        )\n",
    "\n",
    "speckle_removed = morphology.remove_small_objects(\n",
    "        holes_removed, width ** 3\n",
    "        )\n",
    "\n",
    "viewer.layers[-1].visible = False\n",
    "\n",
    "viewer.add_image(\n",
    "        speckle_removed,\n",
    "        name='cleaned',\n",
    "        opacity=0.3,\n",
    "        );"
   ]
  },
  {
   "cell_type": "code",
   "execution_count": 30,
   "id": "1cd018cc",
   "metadata": {},
   "outputs": [
    {
     "data": {
      "text/plain": [
       "<Labels layer 'labels' at 0x393ce3590>"
      ]
     },
     "execution_count": 30,
     "metadata": {},
     "output_type": "execute_result"
    }
   ],
   "source": [
    "from skimage import measure\n",
    "\n",
    "labels = measure.label(speckle_removed)\n",
    "\n",
    "viewer.layers[-1].visible = False\n",
    "viewer.add_labels(\n",
    "        labels,\n",
    "        opacity=0.5,\n",
    "        blending='translucent_no_depth'\n",
    "        )\n"
   ]
  },
  {
   "cell_type": "code",
   "execution_count": 31,
   "id": "958627fe",
   "metadata": {},
   "outputs": [],
   "source": [
    "# Sean's solution\n",
    "from scipy import ndimage as ndi\n",
    "from skimage.feature import peak_local_max\n",
    "\n",
    "spacing = [0.29, 0.26, 0.26]\n",
    "distances = ndi.distance_transform_edt(\n",
    "    speckle_removed, sampling=spacing\n",
    ")\n",
    "dt_smoothed = filters.gaussian(distances, sigma=5)\n",
    "peaks = peak_local_max(dt_smoothed, min_distance=5)\n",
    "\n",
    "pts_layer = viewer.add_points(\n",
    "        peaks,\n",
    "        name=\"sean's points\",\n",
    "        size=4,\n",
    "        n_dimensional=True,  # points have 3D \"extent\"\n",
    "        )"
   ]
  },
  {
   "cell_type": "code",
   "execution_count": 32,
   "id": "e2ca21fe",
   "metadata": {},
   "outputs": [
    {
     "data": {
      "text/plain": [
       "array([[ 35.        ,  98.        , 160.        ],\n",
       "       [ 36.        ,  13.        , 152.        ],\n",
       "       [ 35.        , 158.        , 110.        ],\n",
       "       [ 35.        , 219.        ,  84.        ],\n",
       "       [ 34.        , 184.        ,  49.        ],\n",
       "       [ 33.        , 237.        , 129.        ],\n",
       "       [ 34.        ,  71.        , 111.        ],\n",
       "       [ 35.        , 146.        , 243.        ],\n",
       "       [ 36.        ,  47.        , 182.        ],\n",
       "       [ 36.        ,  34.        ,  76.        ],\n",
       "       [ 35.        ,  11.        ,  21.        ],\n",
       "       [ 38.        , 140.        ,  38.        ],\n",
       "       [ 35.        ,  51.        , 231.        ],\n",
       "       [ 32.        , 202.        , 169.        ],\n",
       "       [ 35.        , 143.        , 192.        ],\n",
       "       [ 41.        ,  78.        ,  59.        ],\n",
       "       [ 41.        ,  98.        ,  49.        ],\n",
       "       [ 36.        , 103.92105263, 251.87246964],\n",
       "       [ 36.        , 220.52024291, 249.02226721],\n",
       "       [ 36.        , 249.54048583, 210.93319838]])"
      ]
     },
     "execution_count": 32,
     "metadata": {},
     "output_type": "execute_result"
    }
   ],
   "source": [
    "points_data = pts_layer.data\n",
    "points_data"
   ]
  },
  {
   "cell_type": "code",
   "execution_count": 33,
   "id": "e881f2eb",
   "metadata": {},
   "outputs": [],
   "source": [
    "from skimage import segmentation, util\n",
    "\n",
    "markers = util.label_points(points_data, nuclei.shape)\n",
    "markers_big = morphology.dilation(markers, morphology.ball(5))\n",
    "\n",
    "segmented = segmentation.watershed(\n",
    "        edges, markers_big, mask=speckle_removed,\n",
    "        )\n",
    "\n",
    "seg_layer = viewer.add_labels(\n",
    "        segmented, blending='translucent_no_depth',\n",
    "        )\n",
    "\n",
    "viewer.layers['labels'].visible = False"
   ]
  },
  {
   "cell_type": "markdown",
   "id": "77141a50",
   "metadata": {},
   "source": [
    "## 4.1 – a *lazy* viewer"
   ]
  },
  {
   "cell_type": "markdown",
   "id": "2d3f0efc",
   "metadata": {},
   "source": [
    "Tribolium castaneum light sheet microscopy data from the [Cell tracking challenge](http://celltrackingchallenge.net/3d-datasets/) contributed by Akanksha Jain, MPI-CBG Dresden."
   ]
  },
  {
   "cell_type": "code",
   "execution_count": 34,
   "id": "0b0e8879",
   "metadata": {},
   "outputs": [
    {
     "name": "stdout",
     "output_type": "stream",
     "text": [
      "213GB\n"
     ]
    }
   ],
   "source": [
    "import zarr\n",
    "\n",
    "image = zarr.open('/Users/jni/data/Fluo-N3DL-TRIF/01.ome.zarr/0/')\n",
    "\n",
    "print(f'{image.nbytes / 1e9:.0f}GB')"
   ]
  },
  {
   "cell_type": "code",
   "execution_count": 35,
   "id": "bfcae9c7",
   "metadata": {},
   "outputs": [
    {
     "name": "stdout",
     "output_type": "stream",
     "text": [
      "(60, 988, 1868, 964)\n"
     ]
    }
   ],
   "source": [
    "print(image.shape)"
   ]
  },
  {
   "cell_type": "code",
   "execution_count": 36,
   "id": "fe04b3fa",
   "metadata": {},
   "outputs": [
    {
     "name": "stdout",
     "output_type": "stream",
     "text": [
      "(1, 64, 512, 512)\n"
     ]
    }
   ],
   "source": [
    "print(image.chunks)"
   ]
  },
  {
   "cell_type": "code",
   "execution_count": 37,
   "id": "c15f719d",
   "metadata": {},
   "outputs": [],
   "source": [
    "viewer, layer = napari.imshow(image)"
   ]
  },
  {
   "cell_type": "markdown",
   "id": "08545456",
   "metadata": {},
   "source": [
    "## 4.2 – lazy annotation 🦥🎨, thank you zarr! 🧊❤️🙏"
   ]
  },
  {
   "cell_type": "code",
   "execution_count": 38,
   "id": "f22c6a07",
   "metadata": {},
   "outputs": [
    {
     "data": {
      "text/plain": [
       "(zarr.core.Array, (60, 988, 1868, 964), 213.49715712)"
      ]
     },
     "execution_count": 38,
     "metadata": {},
     "output_type": "execute_result"
    }
   ],
   "source": [
    "type(image), image.shape, image.nbytes / 1e9"
   ]
  },
  {
   "cell_type": "code",
   "execution_count": 44,
   "id": "57492adb",
   "metadata": {},
   "outputs": [],
   "source": [
    "viewer = napari.Viewer()\n",
    "layer_multi = viewer.add_image(\n",
    "        image,\n",
    "        rendering='attenuated_mip',\n",
    "        name='tribolium',\n",
    "        contrast_limits=(1000, 6000),\n",
    "        )\n",
    "\n",
    "labels = zarr.open(\n",
    "        '/Users/jni/data/Fluo-N3DL-TRIF/01-labels.zarr',\n",
    "        dtype=np.uint32,\n",
    "        shape=image.shape,\n",
    "        write_empty_chunks=False,\n",
    "        chunks=image.chunks,\n",
    "        )"
   ]
  },
  {
   "cell_type": "code",
   "execution_count": 40,
   "id": "0aed834d",
   "metadata": {},
   "outputs": [
    {
     "name": "stdout",
     "output_type": "stream",
     "text": [
      "\u001b[1m\u001b[36m.\u001b[m\u001b[m                     \u001b[1m\u001b[36m01_GT\u001b[m\u001b[m                 random.mov\n",
      "\u001b[1m\u001b[36m..\u001b[m\u001b[m                    \u001b[1m\u001b[36m02\u001b[m\u001b[m                    random.png\n",
      ".DS_Store             \u001b[1m\u001b[36m02_GT\u001b[m\u001b[m                 random2.png\n",
      "\u001b[1m\u001b[36m01\u001b[m\u001b[m                    anim-random.py        random3.png\n",
      "\u001b[1m\u001b[36m01-labels.zarr\u001b[m\u001b[m        anim.py               random4.png\n",
      "\u001b[1m\u001b[36m01.ome.zarr\u001b[m\u001b[m           backup-anim-random.py tribolium.mov\n"
     ]
    }
   ],
   "source": [
    "!ls -a /Users/jni/data/Fluo-N3DL-TRIF/"
   ]
  },
  {
   "cell_type": "code",
   "execution_count": 43,
   "id": "76e74bb4",
   "metadata": {},
   "outputs": [
    {
     "name": "stdout",
     "output_type": "stream",
     "text": [
      "ls: /Users/jni/data/Fluo-N3DL-TRIF/01-labels.zarr: No such file or directory\n"
     ]
    }
   ],
   "source": [
    "!ls -a /Users/jni/data/Fluo-N3DL-TRIF/01-labels.zarr"
   ]
  },
  {
   "cell_type": "code",
   "execution_count": 45,
   "id": "c5308182",
   "metadata": {},
   "outputs": [
    {
     "data": {
      "text/plain": [
       "(60, 988, 1868, 964)"
      ]
     },
     "execution_count": 45,
     "metadata": {},
     "output_type": "execute_result"
    }
   ],
   "source": [
    "labels.shape"
   ]
  },
  {
   "cell_type": "code",
   "execution_count": 46,
   "id": "2f17ea4a",
   "metadata": {},
   "outputs": [
    {
     "name": "stdout",
     "output_type": "stream",
     "text": [
      "INFO: Calculating empty label on non-numpy array is not supported\n"
     ]
    }
   ],
   "source": [
    "layer = viewer.add_labels(labels)"
   ]
  },
  {
   "cell_type": "code",
   "execution_count": 47,
   "id": "deab49bf",
   "metadata": {},
   "outputs": [
    {
     "name": "stdout",
     "output_type": "stream",
     "text": [
      "\u001b[1m\u001b[36m.\u001b[m\u001b[m        \u001b[1m\u001b[36m..\u001b[m\u001b[m       .zarray  29.7.2.0\n"
     ]
    }
   ],
   "source": [
    "!ls -a /Users/jni/data/Fluo-N3DL-TRIF/01-labels.zarr"
   ]
  },
  {
   "cell_type": "code",
   "execution_count": 48,
   "id": "7d20d1a9",
   "metadata": {},
   "outputs": [],
   "source": [
    "!rm -rf /Users/jni/data/Fluo-N3DL-TRIF/01-labels.zarr"
   ]
  },
  {
   "cell_type": "markdown",
   "id": "87fc2185",
   "metadata": {},
   "source": [
    "## 5 – plays well with others"
   ]
  },
  {
   "cell_type": "markdown",
   "id": "ec08670a",
   "metadata": {},
   "source": [
    "napariboard"
   ]
  },
  {
   "cell_type": "code",
   "execution_count": 49,
   "id": "582b5d32",
   "metadata": {},
   "outputs": [],
   "source": [
    "!python /Users/jni/projects/napariboard-proto/napariboard.py"
   ]
  },
  {
   "cell_type": "markdown",
   "id": "afc69b12",
   "metadata": {},
   "source": [
    "## 6 – extensible with plugins"
   ]
  },
  {
   "cell_type": "markdown",
   "id": "244f196c-459c-4a0a-88a6-ef519adceae6",
   "metadata": {},
   "source": [
    "## napari-ome-zarr"
   ]
  },
  {
   "cell_type": "code",
   "execution_count": 1,
   "id": "06e066e6",
   "metadata": {},
   "outputs": [
    {
     "name": "stderr",
     "output_type": "stream",
     "text": [
      "# 2024-07-18 11:48:18,930 INFO OpenGL.acceleratesupport acceleratesupport.py:17 -- No OpenGL_accelerate module loaded: No module named 'OpenGL_accelerate'\n",
      "\n"
     ]
    }
   ],
   "source": [
    "viewer = napari.Viewer()"
   ]
  },
  {
   "cell_type": "code",
   "execution_count": 2,
   "id": "284450dd",
   "metadata": {},
   "outputs": [
    {
     "name": "stderr",
     "output_type": "stream",
     "text": [
      "# 2024-07-18 11:48:23,329 INFO ome_zarr.reader reader.py:175 -- root_attr: multiscales\n",
      "\n",
      "# 2024-07-18 11:48:23,330 INFO ome_zarr.reader reader.py:175 -- root_attr: omero\n",
      "\n",
      "# 2024-07-18 11:48:23,330 INFO ome_zarr.reader reader.py:298 -- datasets [{'coordinateTransformations': [{'scale': [90, 0.38, 0.38, 0.38], 'type': 'scale'}, {'translation': [0, 0, 0, 0], 'type': 'translation'}], 'path': '0'}, {'coordinateTransformations': [{'scale': [90, 0.74, 0.74, 0.74], 'type': 'scale'}, {'translation': [0, 0.19, 0.19, 0.19], 'type': 'translation'}], 'path': '1'}, {'coordinateTransformations': [{'scale': [90, 1.48, 1.48, 1.48], 'type': 'scale'}, {'translation': [0, 0.95, 0.95, 0.95], 'type': 'translation'}], 'path': '2'}]\n",
      "\n",
      "# 2024-07-18 11:48:23,331 INFO ome_zarr.reader reader.py:306 -- resolution: 0\n",
      "\n",
      "# 2024-07-18 11:48:23,331 INFO ome_zarr.reader reader.py:312 --  - shape ('t', 'z', 'y', 'x') = (60, 988, 1868, 964)\n",
      "\n",
      "# 2024-07-18 11:48:23,331 INFO ome_zarr.reader reader.py:313 --  - chunks =  ['1', '64 (+ 28)', '512 (+ 332)', '512 (+ 452)']\n",
      "\n",
      "# 2024-07-18 11:48:23,331 INFO ome_zarr.reader reader.py:314 --  - dtype = uint16\n",
      "\n",
      "# 2024-07-18 11:48:23,332 INFO ome_zarr.reader reader.py:306 -- resolution: 1\n",
      "\n",
      "# 2024-07-18 11:48:23,332 INFO ome_zarr.reader reader.py:312 --  - shape ('t', 'z', 'y', 'x') = (60, 494, 934, 482)\n",
      "\n",
      "# 2024-07-18 11:48:23,332 INFO ome_zarr.reader reader.py:313 --  - chunks =  ['1', '256 (+ 238)', '256 (+ 166)', '256 (+ 226)']\n",
      "\n",
      "# 2024-07-18 11:48:23,332 INFO ome_zarr.reader reader.py:314 --  - dtype = uint16\n",
      "\n",
      "# 2024-07-18 11:48:23,332 INFO ome_zarr.reader reader.py:306 -- resolution: 2\n",
      "\n",
      "# 2024-07-18 11:48:23,333 INFO ome_zarr.reader reader.py:312 --  - shape ('t', 'z', 'y', 'x') = (60, 247, 467, 241)\n",
      "\n",
      "# 2024-07-18 11:48:23,333 INFO ome_zarr.reader reader.py:313 --  - chunks =  ['1', '247', '256 (+ 211)', '241']\n",
      "\n",
      "# 2024-07-18 11:48:23,333 INFO ome_zarr.reader reader.py:314 --  - dtype = uint16\n",
      "\n",
      "# 2024-07-18 11:48:23,333 INFO ome_zarr.reader reader.py:175 -- root_attr: multiscales\n",
      "\n",
      "# 2024-07-18 11:48:23,333 INFO ome_zarr.reader reader.py:175 -- root_attr: omero\n",
      "\n"
     ]
    },
    {
     "data": {
      "text/plain": [
       "[<Image layer 'tribolium' at 0x323592900>]"
      ]
     },
     "execution_count": 2,
     "metadata": {},
     "output_type": "execute_result"
    }
   ],
   "source": [
    "viewer.open(\n",
    "        '/Users/jni/data/Fluo-N3DL-TRIF/01.ome.zarr',\n",
    "        plugin='napari-ome-zarr',\n",
    "        )"
   ]
  },
  {
   "cell_type": "markdown",
   "id": "b7109e59",
   "metadata": {},
   "source": [
    "napari-pdf-reader (I shit you not 😂)"
   ]
  },
  {
   "cell_type": "code",
   "execution_count": 50,
   "id": "f3a21ee8",
   "metadata": {},
   "outputs": [
    {
     "name": "stderr",
     "output_type": "stream",
     "text": [
      "/Users/jni/micromamba/envs/amms/lib/python3.12/site-packages/napari/_vispy/layers/scalar_field.py:199: UserWarning: data shape (8, 3300, 2550, 3) exceeds GL_MAX_TEXTURE_SIZE 2048 in at least one axis and will be downsampled. Rendering is currently in 3D mode.\n",
      "  warnings.warn(\n"
     ]
    }
   ],
   "source": [
    "viewer = napari.Viewer()\n",
    "\n",
    "pdf_layer, = viewer.open('data/project_jupyter.pdf', plugin='napari-pdf-reader')"
   ]
  },
  {
   "cell_type": "code",
   "execution_count": 51,
   "id": "7a68610c-a347-4d25-acdc-369cb77a145c",
   "metadata": {},
   "outputs": [],
   "source": [
    "from skimage import color\n",
    "\n",
    "pdfbw = color.rgb2gray(pdf_layer.data)\n",
    "pdf_layer.visible = False\n",
    "pdfbw_layer = viewer.add_image(\n",
    "        pdfbw[:, ::2, ::2],\n",
    "        scale=(2, 2, 2),\n",
    "        rendering='translucent',\n",
    "        )\n",
    "viewer.dims.ndisplay = 3"
   ]
  },
  {
   "cell_type": "code",
   "execution_count": 52,
   "id": "9b76a8d5-9092-42d8-9357-9dc05345953e",
   "metadata": {},
   "outputs": [
    {
     "name": "stdout",
     "output_type": "stream",
     "text": [
      "\u001b[0;31m---------------------------------------------------------------------------\u001b[0m\n",
      "\u001b[0;31mTypeError\u001b[0m                                 Traceback (most recent call last)\n",
      "File \u001b[0;32m~/micromamba/envs/amms/lib/python3.12/site-packages/napari/_qt/threads/status_checker.py:100\u001b[0m, in \u001b[0;36mStatusChecker.calculate_status\u001b[0;34m(self=<napari._qt.threads.status_checker.StatusChecker object>)\u001b[0m\n",
      "\u001b[1;32m     97\u001b[0m     \u001b[38;5;28;01mreturn\u001b[39;00m\n",
      "\u001b[1;32m     99\u001b[0m \u001b[38;5;28;01mtry\u001b[39;00m:\n",
      "\u001b[0;32m--> 100\u001b[0m     res \u001b[38;5;241m=\u001b[39m \u001b[43mviewer\u001b[49m\u001b[38;5;241;43m.\u001b[39;49m\u001b[43m_calc_status_from_cursor\u001b[49m\u001b[43m(\u001b[49m\u001b[43m)\u001b[49m\n",
      "        viewer \u001b[0;34m= Viewer(camera=Camera(center=(3.5, 1649.5, 1274.5), zoom=0.11328186188931992, angles=(-2.2063077529990824, 72.66401632205257, 89.50976640648655), perspective=0.0, mouse_pan=True, mouse_zoom=True), cursor=Cursor(position=(-1220.3332793384097, 706.1974823590747, 701.0588870354782), scaled=True, style=<CursorStyle.STANDARD: 'standard'>, size=1.0), dims=Dims(ndim=3, ndisplay=3, order=(0, 1, 2), axis_labels=('0', '1', '2'), rollable=(True, True, True), range=(RangeTuple(start=0.0, stop=14.0, step=1.0), RangeTuple(start=0.0, stop=3299.0, step=1.0), RangeTuple(start=0.0, stop=48748.0, step=0.0006060605782342461)), margin_left=(0.0, 0.0, 0.0), margin_right=(0.0, 0.0, 0.0), point=(5.0, 1649.0, 2549.007761754021), last_used=0), grid=GridCanvas(stride=1, shape=(-1, -1), enabled=False), layers=[<Image layer 'project_jupyter' at 0x34d8f5d90>, <Image layer 'Image' at 0x34d3918e0>], help='use <2> for transform', status={'layer_name': 'Image', 'layer_base': 'Image', 'source_type': '', 'plugin': '', 'coordinates': ' [-878 627 755]: 1'}, tooltip=Tooltip(visible=False, text=''), theme='dark', title='napari', mouse_over_canvas=True, mouse_move_callbacks=[], mouse_drag_callbacks=[], mouse_double_click_callbacks=[], mouse_wheel_callbacks=[<function dims_scroll at 0x3724a07c0>], _persisted_mouse_event={}, _mouse_drag_gen={}, _mouse_wheel_gen={}, _keymap={})\u001b[0m\n",
      "\u001b[1;32m    101\u001b[0m \u001b[38;5;28;01mexcept\u001b[39;00m \u001b[38;5;167;01mException\u001b[39;00m \u001b[38;5;28;01mas\u001b[39;00m e:  \u001b[38;5;66;03m# pragma: no cover # noqa: BLE001\u001b[39;00m\n",
      "\u001b[1;32m    102\u001b[0m     \u001b[38;5;66;03m# Our codebase is not threadsafe. It is possible that an\u001b[39;00m\n",
      "\u001b[1;32m    103\u001b[0m     \u001b[38;5;66;03m# ViewerModel or Layer state is changed while we are trying to\u001b[39;00m\n",
      "\u001b[0;32m   (...)\u001b[0m\n",
      "\u001b[1;32m    107\u001b[0m     \u001b[38;5;66;03m#\u001b[39;00m\n",
      "\u001b[1;32m    108\u001b[0m     \u001b[38;5;66;03m# We do not want to crash the thread to keep the status updates.\u001b[39;00m\n",
      "\u001b[1;32m    109\u001b[0m     notification_manager\u001b[38;5;241m.\u001b[39mdispatch(Notification\u001b[38;5;241m.\u001b[39mfrom_exception(e))\n",
      "\n",
      "File \u001b[0;32m~/micromamba/envs/amms/lib/python3.12/site-packages/napari/components/viewer_model.py:564\u001b[0m, in \u001b[0;36mViewerModel._calc_status_from_cursor\u001b[0;34m(self=Viewer(camera=Camera(center=(3.5, 1649.5, 1274.5...use_drag_gen={}, _mouse_wheel_gen={}, _keymap={}))\u001b[0m\n",
      "\u001b[1;32m    562\u001b[0m active \u001b[38;5;241m=\u001b[39m \u001b[38;5;28mself\u001b[39m\u001b[38;5;241m.\u001b[39mlayers\u001b[38;5;241m.\u001b[39mselection\u001b[38;5;241m.\u001b[39mactive\n",
      "\u001b[1;32m    563\u001b[0m \u001b[38;5;28;01mif\u001b[39;00m active \u001b[38;5;129;01mis\u001b[39;00m \u001b[38;5;129;01mnot\u001b[39;00m \u001b[38;5;28;01mNone\u001b[39;00m:\n",
      "\u001b[0;32m--> 564\u001b[0m     status \u001b[38;5;241m=\u001b[39m \u001b[43mactive\u001b[49m\u001b[38;5;241;43m.\u001b[39;49m\u001b[43mget_status\u001b[49m\u001b[43m(\u001b[49m\n",
      "        active \u001b[0;34m= <Image layer 'Image' at 0x34d3918e0>\u001b[0m\u001b[0;34m\n",
      "        \u001b[0mself \u001b[0;34m= Viewer(camera=Camera(center=(3.5, 1649.5, 1274.5), zoom=0.11328186188931992, angles=(-2.2063077529990824, 72.66401632205257, 89.50976640648655), perspective=0.0, mouse_pan=True, mouse_zoom=True), cursor=Cursor(position=(-1619.5208751429752, 747.3127481835352, 765.4758406503333), scaled=True, style=<CursorStyle.STANDARD: 'standard'>, size=1.0), dims=Dims(ndim=3, ndisplay=3, order=(0, 1, 2), axis_labels=('0', '1', '2'), rollable=(True, True, True), range=(RangeTuple(start=0.0, stop=14.0, step=1.0), RangeTuple(start=0.0, stop=3299.0, step=1.0), RangeTuple(start=0.0, stop=48748.0, step=0.0006060605782342461)), margin_left=(0.0, 0.0, 0.0), margin_right=(0.0, 0.0, 0.0), point=(5.0, 1649.0, 2549.007761754021), last_used=0), grid=GridCanvas(stride=1, shape=(-1, -1), enabled=False), layers=[<Image layer 'project_jupyter' at 0x34d8f5d90>, <Image layer 'Image' at 0x34d3918e0>], help='use <2> for transform', status={'layer_name': 'Image', 'layer_base': 'Image', 'source_type': '', 'plugin': '', 'coordinates': ' [-878 627 755]: 1'}, tooltip=Tooltip(visible=False, text=''), theme='dark', title='napari', mouse_over_canvas=True, mouse_move_callbacks=[], mouse_drag_callbacks=[], mouse_double_click_callbacks=[], mouse_wheel_callbacks=[<function dims_scroll at 0x3724a07c0>], _persisted_mouse_event={}, _mouse_drag_gen={}, _mouse_wheel_gen={}, _keymap={})\u001b[0m\u001b[0;34m\n",
      "        \u001b[0mself.cursor.position \u001b[0;34m= (-1220.3332793384097, 706.1974823590747, 701.0588870354782)\u001b[0m\u001b[0;34m\n",
      "        \u001b[0mself.cursor \u001b[0;34m= Cursor(position=(-1619.5208751429752, 747.3127481835352, 765.4758406503333), scaled=True, style=<CursorStyle.STANDARD: 'standard'>, size=1.0)\u001b[0m\u001b[0;34m\n",
      "        \u001b[0mself.cursor._view_direction \u001b[0;34m= array([ 0.44073, -0.02635, -0.89725])\u001b[0m\u001b[0;34m\n",
      "        \u001b[0mself.dims \u001b[0;34m= Dims(ndim=3, ndisplay=3, order=(0, 1, 2), axis_labels=('0', '1', '2'), rollable=(True, True, True), range=(RangeTuple(start=0.0, stop=14.0, step=1.0), RangeTuple(start=0.0, stop=3299.0, step=1.0), RangeTuple(start=0.0, stop=48748.0, step=0.0006060605782342461)), margin_left=(0.0, 0.0, 0.0), margin_right=(0.0, 0.0, 0.0), point=(5.0, 1649.0, 2549.007761754021), last_used=0)\u001b[0m\n",
      "\u001b[1;32m    565\u001b[0m \u001b[43m        \u001b[49m\u001b[38;5;28;43mself\u001b[39;49m\u001b[38;5;241;43m.\u001b[39;49m\u001b[43mcursor\u001b[49m\u001b[38;5;241;43m.\u001b[39;49m\u001b[43mposition\u001b[49m\u001b[43m,\u001b[49m\n",
      "\u001b[1;32m    566\u001b[0m \u001b[43m        \u001b[49m\u001b[43mview_direction\u001b[49m\u001b[38;5;241;43m=\u001b[39;49m\u001b[38;5;28;43mself\u001b[39;49m\u001b[38;5;241;43m.\u001b[39;49m\u001b[43mcursor\u001b[49m\u001b[38;5;241;43m.\u001b[39;49m\u001b[43m_view_direction\u001b[49m\u001b[43m,\u001b[49m\n",
      "\u001b[1;32m    567\u001b[0m \u001b[43m        \u001b[49m\u001b[43mdims_displayed\u001b[49m\u001b[38;5;241;43m=\u001b[39;49m\u001b[38;5;28;43mlist\u001b[39;49m\u001b[43m(\u001b[49m\u001b[38;5;28;43mself\u001b[39;49m\u001b[38;5;241;43m.\u001b[39;49m\u001b[43mdims\u001b[49m\u001b[38;5;241;43m.\u001b[39;49m\u001b[43mdisplayed\u001b[49m\u001b[43m)\u001b[49m\u001b[43m,\u001b[49m\n",
      "\u001b[1;32m    568\u001b[0m \u001b[43m        \u001b[49m\u001b[43mworld\u001b[49m\u001b[38;5;241;43m=\u001b[39;49m\u001b[38;5;28;43;01mTrue\u001b[39;49;00m\u001b[43m,\u001b[49m\n",
      "\u001b[1;32m    569\u001b[0m \u001b[43m    \u001b[49m\u001b[43m)\u001b[49m\n",
      "\u001b[1;32m    571\u001b[0m     \u001b[38;5;28;01mif\u001b[39;00m \u001b[38;5;28mself\u001b[39m\u001b[38;5;241m.\u001b[39mtooltip\u001b[38;5;241m.\u001b[39mvisible:\n",
      "\u001b[1;32m    572\u001b[0m         tooltip_text \u001b[38;5;241m=\u001b[39m active\u001b[38;5;241m.\u001b[39m_get_tooltip_text(\n",
      "\u001b[1;32m    573\u001b[0m             np\u001b[38;5;241m.\u001b[39masarray(\u001b[38;5;28mself\u001b[39m\u001b[38;5;241m.\u001b[39mcursor\u001b[38;5;241m.\u001b[39mposition),\n",
      "\u001b[1;32m    574\u001b[0m             view_direction\u001b[38;5;241m=\u001b[39mnp\u001b[38;5;241m.\u001b[39masarray(\u001b[38;5;28mself\u001b[39m\u001b[38;5;241m.\u001b[39mcursor\u001b[38;5;241m.\u001b[39m_view_direction),\n",
      "\u001b[1;32m    575\u001b[0m             dims_displayed\u001b[38;5;241m=\u001b[39m\u001b[38;5;28mlist\u001b[39m(\u001b[38;5;28mself\u001b[39m\u001b[38;5;241m.\u001b[39mdims\u001b[38;5;241m.\u001b[39mdisplayed),\n",
      "\u001b[1;32m    576\u001b[0m             world\u001b[38;5;241m=\u001b[39m\u001b[38;5;28;01mTrue\u001b[39;00m,\n",
      "\u001b[1;32m    577\u001b[0m         )\n",
      "\n",
      "File \u001b[0;32m~/micromamba/envs/amms/lib/python3.12/site-packages/napari/layers/base/base.py:2137\u001b[0m, in \u001b[0;36mLayer.get_status\u001b[0;34m(self=<Image layer 'Image'>, position=array([-1081.75247,   685.44527,   707.24269]), view_direction=array([ 0.48913, -0.0379 , -0.87138]), dims_displayed=[0, 1, 2], world=True)\u001b[0m\n",
      "\u001b[1;32m   2135\u001b[0m \u001b[38;5;28;01mif\u001b[39;00m position \u001b[38;5;129;01mis\u001b[39;00m \u001b[38;5;129;01mnot\u001b[39;00m \u001b[38;5;28;01mNone\u001b[39;00m:\n",
      "\u001b[1;32m   2136\u001b[0m     position \u001b[38;5;241m=\u001b[39m np\u001b[38;5;241m.\u001b[39masarray(position)\n",
      "\u001b[0;32m-> 2137\u001b[0m     value \u001b[38;5;241m=\u001b[39m \u001b[38;5;28;43mself\u001b[39;49m\u001b[38;5;241;43m.\u001b[39;49m\u001b[43mget_value\u001b[49m\u001b[43m(\u001b[49m\n",
      "        self \u001b[0;34m= <Image layer 'Image' at 0x34d3918e0>\u001b[0m\u001b[0;34m\n",
      "        \u001b[0mposition \u001b[0;34m= array([-1081.75247,   685.44527,   707.24269])\u001b[0m\u001b[0;34m\n",
      "        \u001b[0mview_direction \u001b[0;34m= array([ 0.48913, -0.0379 , -0.87138])\u001b[0m\u001b[0;34m\n",
      "        \u001b[0mdims_displayed \u001b[0;34m= [0, 1, 2]\u001b[0m\u001b[0;34m\n",
      "        \u001b[0mworld \u001b[0;34m= True\u001b[0m\n",
      "\u001b[1;32m   2138\u001b[0m \u001b[43m        \u001b[49m\u001b[43mposition\u001b[49m\u001b[43m,\u001b[49m\n",
      "\u001b[1;32m   2139\u001b[0m \u001b[43m        \u001b[49m\u001b[43mview_direction\u001b[49m\u001b[38;5;241;43m=\u001b[39;49m\u001b[43mview_direction\u001b[49m\u001b[43m,\u001b[49m\n",
      "\u001b[1;32m   2140\u001b[0m \u001b[43m        \u001b[49m\u001b[43mdims_displayed\u001b[49m\u001b[38;5;241;43m=\u001b[39;49m\u001b[43mdims_displayed\u001b[49m\u001b[43m,\u001b[49m\n",
      "\u001b[1;32m   2141\u001b[0m \u001b[43m        \u001b[49m\u001b[43mworld\u001b[49m\u001b[38;5;241;43m=\u001b[39;49m\u001b[43mworld\u001b[49m\u001b[43m,\u001b[49m\n",
      "\u001b[1;32m   2142\u001b[0m \u001b[43m    \u001b[49m\u001b[43m)\u001b[49m\n",
      "\u001b[1;32m   2143\u001b[0m \u001b[38;5;28;01melse\u001b[39;00m:\n",
      "\u001b[1;32m   2144\u001b[0m     value \u001b[38;5;241m=\u001b[39m \u001b[38;5;28;01mNone\u001b[39;00m\n",
      "\n",
      "File \u001b[0;32m~/micromamba/envs/amms/lib/python3.12/site-packages/napari/layers/base/base.py:1393\u001b[0m, in \u001b[0;36mLayer.get_value\u001b[0;34m(self=<Image layer 'Image'>, position=array([-5.40876e+02,  3.42723e+02,  1.78525e+06]), view_direction=array([ 3.02867e-04, -2.34659e-05, -1.00000e+00]), dims_displayed=[0, 1, 2], world=True)\u001b[0m\n",
      "\u001b[1;32m   1391\u001b[0m     \u001b[38;5;28;01melif\u001b[39;00m \u001b[38;5;28mlen\u001b[39m(dims_displayed) \u001b[38;5;241m==\u001b[39m \u001b[38;5;241m3\u001b[39m:\n",
      "\u001b[1;32m   1392\u001b[0m         view_direction \u001b[38;5;241m=\u001b[39m \u001b[38;5;28mself\u001b[39m\u001b[38;5;241m.\u001b[39m_world_to_data_ray(view_direction)\n",
      "\u001b[0;32m-> 1393\u001b[0m         start_point, end_point \u001b[38;5;241m=\u001b[39m \u001b[38;5;28;43mself\u001b[39;49m\u001b[38;5;241;43m.\u001b[39;49m\u001b[43mget_ray_intersections\u001b[49m\u001b[43m(\u001b[49m\n",
      "        self \u001b[0;34m= <Image layer 'Image' at 0x34d3918e0>\u001b[0m\u001b[0;34m\n",
      "        \u001b[0mposition \u001b[0;34m= array([-5.40876e+02,  3.42723e+02,  1.78525e+06])\u001b[0m\u001b[0;34m\n",
      "        \u001b[0mview_direction \u001b[0;34m= array([ 3.02867e-04, -2.34659e-05, -1.00000e+00])\u001b[0m\u001b[0;34m\n",
      "        \u001b[0mdims_displayed \u001b[0;34m= [0, 1, 2]\u001b[0m\n",
      "\u001b[1;32m   1394\u001b[0m \u001b[43m            \u001b[49m\u001b[43mposition\u001b[49m\u001b[38;5;241;43m=\u001b[39;49m\u001b[43mposition\u001b[49m\u001b[43m,\u001b[49m\n",
      "\u001b[1;32m   1395\u001b[0m \u001b[43m            \u001b[49m\u001b[43mview_direction\u001b[49m\u001b[38;5;241;43m=\u001b[39;49m\u001b[43mview_direction\u001b[49m\u001b[43m,\u001b[49m\n",
      "\u001b[1;32m   1396\u001b[0m \u001b[43m            \u001b[49m\u001b[43mdims_displayed\u001b[49m\u001b[38;5;241;43m=\u001b[39;49m\u001b[43mdims_displayed\u001b[49m\u001b[43m,\u001b[49m\n",
      "\u001b[1;32m   1397\u001b[0m \u001b[43m            \u001b[49m\u001b[43mworld\u001b[49m\u001b[38;5;241;43m=\u001b[39;49m\u001b[38;5;28;43;01mFalse\u001b[39;49;00m\u001b[43m,\u001b[49m\n",
      "\u001b[1;32m   1398\u001b[0m \u001b[43m        \u001b[49m\u001b[43m)\u001b[49m\n",
      "\u001b[1;32m   1399\u001b[0m         value \u001b[38;5;241m=\u001b[39m \u001b[38;5;28mself\u001b[39m\u001b[38;5;241m.\u001b[39m_get_value_3d(\n",
      "\u001b[1;32m   1400\u001b[0m             start_point\u001b[38;5;241m=\u001b[39mstart_point,\n",
      "\u001b[1;32m   1401\u001b[0m             end_point\u001b[38;5;241m=\u001b[39mend_point,\n",
      "\u001b[1;32m   1402\u001b[0m             dims_displayed\u001b[38;5;241m=\u001b[39mdims_displayed,\n",
      "\u001b[1;32m   1403\u001b[0m         )\n",
      "\u001b[1;32m   1404\u001b[0m \u001b[38;5;28;01melse\u001b[39;00m:\n",
      "\n",
      "File \u001b[0;32m~/micromamba/envs/amms/lib/python3.12/site-packages/napari/layers/base/base.py:1869\u001b[0m, in \u001b[0;36mLayer.get_ray_intersections\u001b[0;34m(self=<Image layer 'Image'>, position=array([-5.40876e+02,  3.42723e+02,  1.78525e+06]), view_direction=array([ 3.02867e-04, -2.34659e-05, -1.00000e+00]), dims_displayed=[0, 1, 2], world=False)\u001b[0m\n",
      "\u001b[1;32m   1866\u001b[0m \u001b[38;5;66;03m# bounding box is with upper limit excluded in the uses below\u001b[39;00m\n",
      "\u001b[1;32m   1867\u001b[0m bounding_box[:, \u001b[38;5;241m1\u001b[39m] \u001b[38;5;241m+\u001b[39m\u001b[38;5;241m=\u001b[39m \u001b[38;5;241m1\u001b[39m\n",
      "\u001b[0;32m-> 1869\u001b[0m start_point, end_point \u001b[38;5;241m=\u001b[39m \u001b[38;5;28;43mself\u001b[39;49m\u001b[38;5;241;43m.\u001b[39;49m\u001b[43m_get_ray_intersections\u001b[49m\u001b[43m(\u001b[49m\n",
      "        self \u001b[0;34m= <Image layer 'Image' at 0x34d3918e0>\u001b[0m\u001b[0;34m\n",
      "        \u001b[0mposition \u001b[0;34m= array([-5.40876e+02,  3.42723e+02,  1.78525e+06])\u001b[0m\u001b[0;34m\n",
      "        \u001b[0mview_direction \u001b[0;34m= array([ 3.02867e-04, -2.34659e-05, -1.00000e+00])\u001b[0m\u001b[0;34m\n",
      "        \u001b[0mdims_displayed \u001b[0;34m= [0, 1, 2]\u001b[0m\u001b[0;34m\n",
      "        \u001b[0mworld \u001b[0;34m= False\u001b[0m\u001b[0;34m\n",
      "        \u001b[0mbounding_box \u001b[0;34m= array([[   0.,    8.],\n",
      "       [   0., 1650.],\n",
      "       [   0., 1275.]])\u001b[0m\n",
      "\u001b[1;32m   1870\u001b[0m \u001b[43m    \u001b[49m\u001b[43mposition\u001b[49m\u001b[38;5;241;43m=\u001b[39;49m\u001b[43mposition\u001b[49m\u001b[43m,\u001b[49m\n",
      "\u001b[1;32m   1871\u001b[0m \u001b[43m    \u001b[49m\u001b[43mview_direction\u001b[49m\u001b[38;5;241;43m=\u001b[39;49m\u001b[43mview_direction\u001b[49m\u001b[43m,\u001b[49m\n",
      "\u001b[1;32m   1872\u001b[0m \u001b[43m    \u001b[49m\u001b[43mdims_displayed\u001b[49m\u001b[38;5;241;43m=\u001b[39;49m\u001b[43mdims_displayed\u001b[49m\u001b[43m,\u001b[49m\n",
      "\u001b[1;32m   1873\u001b[0m \u001b[43m    \u001b[49m\u001b[43mworld\u001b[49m\u001b[38;5;241;43m=\u001b[39;49m\u001b[43mworld\u001b[49m\u001b[43m,\u001b[49m\n",
      "\u001b[1;32m   1874\u001b[0m \u001b[43m    \u001b[49m\u001b[43mbounding_box\u001b[49m\u001b[38;5;241;43m=\u001b[39;49m\u001b[43mbounding_box\u001b[49m\u001b[43m,\u001b[49m\n",
      "\u001b[1;32m   1875\u001b[0m \u001b[43m\u001b[49m\u001b[43m)\u001b[49m\n",
      "\u001b[1;32m   1876\u001b[0m \u001b[38;5;28;01mreturn\u001b[39;00m start_point, end_point\n",
      "\n",
      "File \u001b[0;32m~/micromamba/envs/amms/lib/python3.12/site-packages/napari/layers/base/base.py:1949\u001b[0m, in \u001b[0;36mLayer._get_ray_intersections\u001b[0;34m(self=<Image layer 'Image'>, position=array([-5.40376e+02,  3.43223e+02,  1.78525e+06]), view_direction=array([ 3.02867e-04, -2.34659e-05, -1.00000e+00]), dims_displayed=[0, 1, 2], bounding_box=array([[   0.,    8.],\n",
      "       [   0., 1650.],\n",
      "       [   0., 1275.]]), world=False)\u001b[0m\n",
      "\u001b[1;32m   1945\u001b[0m     \u001b[38;5;28;01mreturn\u001b[39;00m \u001b[38;5;28;01mNone\u001b[39;00m, \u001b[38;5;28;01mNone\u001b[39;00m\n",
      "\u001b[1;32m   1947\u001b[0m \u001b[38;5;66;03m# Calculate ray-bounding box face intersections\u001b[39;00m\n",
      "\u001b[1;32m   1948\u001b[0m start_point_displayed_dimensions \u001b[38;5;241m=\u001b[39m (\n",
      "\u001b[0;32m-> 1949\u001b[0m     \u001b[43mintersect_line_with_axis_aligned_bounding_box_3d\u001b[49m\u001b[43m(\u001b[49m\n",
      "        view_dir \u001b[0;34m= array([ 3.02867e-04, -2.34659e-05, -1.00000e+00])\u001b[0m\u001b[0;34m\n",
      "        \u001b[0mclick_pos_data \u001b[0;34m= array([-5.40376e+02,  3.43223e+02,  1.78525e+06])\u001b[0m\u001b[0;34m\n",
      "        \u001b[0mfront_face_normal \u001b[0;34m= None\u001b[0m\u001b[0;34m\n",
      "        \u001b[0mbounding_box \u001b[0;34m= array([[   0.,    8.],\n",
      "       [   0., 1650.],\n",
      "       [   0., 1275.]])\u001b[0m\n",
      "\u001b[1;32m   1950\u001b[0m \u001b[43m        \u001b[49m\u001b[43mclick_pos_data\u001b[49m\u001b[43m,\u001b[49m\u001b[43m \u001b[49m\u001b[43mview_dir\u001b[49m\u001b[43m,\u001b[49m\u001b[43m \u001b[49m\u001b[43mbounding_box\u001b[49m\u001b[43m,\u001b[49m\u001b[43m \u001b[49m\u001b[43mfront_face_normal\u001b[49m\n",
      "\u001b[1;32m   1951\u001b[0m \u001b[43m    \u001b[49m\u001b[43m)\u001b[49m\n",
      "\u001b[1;32m   1952\u001b[0m )\n",
      "\u001b[1;32m   1953\u001b[0m end_point_displayed_dimensions \u001b[38;5;241m=\u001b[39m (\n",
      "\u001b[1;32m   1954\u001b[0m     intersect_line_with_axis_aligned_bounding_box_3d(\n",
      "\u001b[1;32m   1955\u001b[0m         click_pos_data, view_dir, bounding_box, back_face_normal\n",
      "\u001b[1;32m   1956\u001b[0m     )\n",
      "\u001b[1;32m   1957\u001b[0m )\n",
      "\u001b[1;32m   1959\u001b[0m \u001b[38;5;66;03m# add the coordinates for the axes not displayed\u001b[39;00m\n",
      "\n",
      "File \u001b[0;32m~/micromamba/envs/amms/lib/python3.12/site-packages/napari/utils/geometry.py:739\u001b[0m, in \u001b[0;36mintersect_line_with_axis_aligned_bounding_box_3d\u001b[0;34m(line_point=array([-5.40376e+02,  3.43223e+02,  1.78525e+06]), line_direction=array([ 3.02867e-04, -2.34659e-05, -1.00000e+00]), bounding_box=array([[   0.,    8.],\n",
      "       [   0., 1650.],\n",
      "       [   0., 1275.]]), face_normal=None)\u001b[0m\n",
      "\u001b[1;32m    709\u001b[0m \u001b[38;5;28;01mdef\u001b[39;00m \u001b[38;5;21mintersect_line_with_axis_aligned_bounding_box_3d\u001b[39m(\n",
      "\u001b[1;32m    710\u001b[0m     line_point: np\u001b[38;5;241m.\u001b[39mndarray,\n",
      "\u001b[1;32m    711\u001b[0m     line_direction: np\u001b[38;5;241m.\u001b[39mndarray,\n",
      "\u001b[1;32m    712\u001b[0m     bounding_box: np\u001b[38;5;241m.\u001b[39mndarray,\n",
      "\u001b[1;32m    713\u001b[0m     face_normal: np\u001b[38;5;241m.\u001b[39mndarray,\n",
      "\u001b[1;32m    714\u001b[0m ):\n",
      "\u001b[1;32m    715\u001b[0m \u001b[38;5;250m    \u001b[39m\u001b[38;5;124;03m\"\"\"Find the intersection of a ray with the specified face of an\u001b[39;00m\n",
      "\u001b[1;32m    716\u001b[0m \u001b[38;5;124;03m    axis-aligned bounding box.\u001b[39;00m\n",
      "\u001b[1;32m    717\u001b[0m \n",
      "\u001b[0;32m   (...)\u001b[0m\n",
      "\u001b[1;32m    737\u001b[0m \u001b[38;5;124;03m        the specified face.\u001b[39;00m\n",
      "\u001b[1;32m    738\u001b[0m \u001b[38;5;124;03m    \"\"\"\u001b[39;00m\n",
      "\u001b[0;32m--> 739\u001b[0m     front_face_coordinate \u001b[38;5;241m=\u001b[39m \u001b[43mface_coordinate_from_bounding_box\u001b[49m\u001b[43m(\u001b[49m\n",
      "        bounding_box \u001b[0;34m= array([[   0.,    8.],\n",
      "       [   0., 1650.],\n",
      "       [   0., 1275.]])\u001b[0m\u001b[0;34m\n",
      "        \u001b[0mface_normal \u001b[0;34m= None\u001b[0m\n",
      "\u001b[1;32m    740\u001b[0m \u001b[43m        \u001b[49m\u001b[43mbounding_box\u001b[49m\u001b[43m,\u001b[49m\u001b[43m \u001b[49m\u001b[43mface_normal\u001b[49m\n",
      "\u001b[1;32m    741\u001b[0m \u001b[43m    \u001b[49m\u001b[43m)\u001b[49m\n",
      "\u001b[1;32m    742\u001b[0m     intersection_point \u001b[38;5;241m=\u001b[39m np\u001b[38;5;241m.\u001b[39msqueeze(\n",
      "\u001b[1;32m    743\u001b[0m         intersect_line_with_axis_aligned_plane(\n",
      "\u001b[1;32m    744\u001b[0m             front_face_coordinate,\n",
      "\u001b[0;32m   (...)\u001b[0m\n",
      "\u001b[1;32m    748\u001b[0m         )\n",
      "\u001b[1;32m    749\u001b[0m     )\n",
      "\u001b[1;32m    751\u001b[0m     \u001b[38;5;28;01mreturn\u001b[39;00m intersection_point\n",
      "\n",
      "File \u001b[0;32m~/micromamba/envs/amms/lib/python3.12/site-packages/napari/utils/geometry.py:241\u001b[0m, in \u001b[0;36mface_coordinate_from_bounding_box\u001b[0;34m(bounding_box=array([[   0.,    8.],\n",
      "       [   0., 1650.],\n",
      "       [   0., 1275.]]), face_normal=None)\u001b[0m\n",
      "\u001b[1;32m    220\u001b[0m \u001b[38;5;250m\u001b[39m\u001b[38;5;124;03m\"\"\"Get the coordinate for a given face in an axis-aligned bounding box.\u001b[39;00m\n",
      "\u001b[1;32m    221\u001b[0m \u001b[38;5;124;03mFor example, if the bounding box has extents [[0, 10], [0, 20], [0, 30]]\u001b[39;00m\n",
      "\u001b[1;32m    222\u001b[0m \u001b[38;5;124;03m(ordered zyx), then the face with normal [0, 1, 0] is described by\u001b[39;00m\n",
      "\u001b[0;32m   (...)\u001b[0m\n",
      "\u001b[1;32m    238\u001b[0m \u001b[38;5;124;03m    the axis its normal is aligned with.\u001b[39;00m\n",
      "\u001b[1;32m    239\u001b[0m \u001b[38;5;124;03m\"\"\"\u001b[39;00m\n",
      "\u001b[1;32m    240\u001b[0m axis \u001b[38;5;241m=\u001b[39m np\u001b[38;5;241m.\u001b[39margwhere(face_normal)\n",
      "\u001b[0;32m--> 241\u001b[0m \u001b[38;5;28;01mif\u001b[39;00m \u001b[43mface_normal\u001b[49m\u001b[43m[\u001b[49m\u001b[43maxis\u001b[49m\u001b[43m]\u001b[49m \u001b[38;5;241m>\u001b[39m \u001b[38;5;241m0\u001b[39m:\n",
      "        axis \u001b[0;34m= array([], shape=(0, 0), dtype=int64)\u001b[0m\u001b[0;34m\n",
      "        \u001b[0mface_normal \u001b[0;34m= None\u001b[0m\n",
      "\u001b[1;32m    242\u001b[0m     \u001b[38;5;66;03m# face is pointing in the positive direction,\u001b[39;00m\n",
      "\u001b[1;32m    243\u001b[0m     \u001b[38;5;66;03m# take the max extent\u001b[39;00m\n",
      "\u001b[1;32m    244\u001b[0m     face_coordinate \u001b[38;5;241m=\u001b[39m bounding_box[axis, \u001b[38;5;241m1\u001b[39m]\n",
      "\u001b[1;32m    245\u001b[0m \u001b[38;5;28;01melse\u001b[39;00m:\n",
      "\u001b[1;32m    246\u001b[0m     \u001b[38;5;66;03m# face is pointing in the negative direction,\u001b[39;00m\n",
      "\u001b[1;32m    247\u001b[0m     \u001b[38;5;66;03m# take the min extent\u001b[39;00m\n",
      "\n",
      "\u001b[0;31mTypeError\u001b[0m: 'NoneType' object is not subscriptable\n"
     ]
    },
    {
     "name": "stderr",
     "output_type": "stream",
     "text": [
      "Traceback (most recent call last):\n",
      "  File \"/Users/jni/micromamba/envs/amms/lib/python3.12/site-packages/napari/_qt/threads/status_checker.py\", line 86, in run\n",
      "    self.calculate_status()\n",
      "  File \"/Users/jni/micromamba/envs/amms/lib/python3.12/site-packages/napari/_qt/threads/status_checker.py\", line 110, in calculate_status\n",
      "    self.status_and_tooltip_changed.emit(res)\n",
      "                                         ^^^\n",
      "UnboundLocalError: cannot access local variable 'res' where it is not associated with a value\n"
     ]
    }
   ],
   "source": [
    "from magicgui import magicgui, widgets\n",
    "\n",
    "@magicgui(\n",
    "        shear={'widget_type': widgets.FloatSlider,\n",
    "               'min': 0,\n",
    "               'max': pdfbw.shape[1]},\n",
    "        auto_call=True,\n",
    "        )\n",
    "def set_layer_xz_shear(shear: float):\n",
    "    pdfbw_layer.affine = [\n",
    "            [1    , 0, 0, 0],\n",
    "            [0    , 1, 0, 0],\n",
    "            [shear, 0, 1, 0],\n",
    "            [0    , 0, 0, 1],\n",
    "            ]\n",
    "\n",
    "dw = viewer.window.add_dock_widget(set_layer_xz_shear);"
   ]
  }
 ],
 "metadata": {
  "kernelspec": {
   "display_name": "Python 3 (ipykernel)",
   "language": "python",
   "name": "python3"
  },
  "language_info": {
   "codemirror_mode": {
    "name": "ipython",
    "version": 3
   },
   "file_extension": ".py",
   "mimetype": "text/x-python",
   "name": "python",
   "nbconvert_exporter": "python",
   "pygments_lexer": "ipython3",
   "version": "3.12.7"
  }
 },
 "nbformat": 4,
 "nbformat_minor": 5
}
