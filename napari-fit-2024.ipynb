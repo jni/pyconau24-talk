{
 "cells": [
  {
   "cell_type": "markdown",
   "id": "3078fb91",
   "metadata": {},
   "source": [
    "# Explore, annotate, and analyze multi-dimensional images in Python with napari"
   ]
  },
  {
   "cell_type": "markdown",
   "id": "160bddb6",
   "metadata": {},
   "source": [
    "## 1.1 – a *fast* 2D viewer"
   ]
  },
  {
   "cell_type": "code",
   "execution_count": null,
   "id": "9a24c795",
   "metadata": {},
   "outputs": [],
   "source": [
    "import numpy as np\n",
    "import matplotlib.pyplot as plt\n",
    "import napari"
   ]
  },
  {
   "cell_type": "code",
   "execution_count": null,
   "id": "b76f31c6",
   "metadata": {},
   "outputs": [],
   "source": [
    "import tifffile\n",
    "\n",
    "image = tifffile.imread(\n",
    "    '/Users/jni/projects/demos/spatialdata-sandbox/'\n",
    "    'visium_io/data/Visium_Mouse_Olfactory_Bulb_image.tif'\n",
    ")"
   ]
  },
  {
   "cell_type": "code",
   "execution_count": null,
   "id": "64b0b763",
   "metadata": {},
   "outputs": [],
   "source": [
    "image.shape"
   ]
  },
  {
   "cell_type": "code",
   "execution_count": null,
   "id": "ebf04593",
   "metadata": {},
   "outputs": [],
   "source": [
    "%matplotlib qt"
   ]
  },
  {
   "cell_type": "code",
   "execution_count": null,
   "id": "62272b40",
   "metadata": {},
   "outputs": [],
   "source": [
    "plt.imshow(image)"
   ]
  },
  {
   "cell_type": "code",
   "execution_count": null,
   "id": "378b0a1d",
   "metadata": {},
   "outputs": [],
   "source": [
    "viewer, layer = napari.imshow(image)"
   ]
  },
  {
   "cell_type": "markdown",
   "id": "5c993d72",
   "metadata": {},
   "source": [
    "## 1.2 – a *multidimensional* viewer"
   ]
  },
  {
   "cell_type": "markdown",
   "id": "e62023a5-0b73-4ddf-9615-44a7ae9be6c3",
   "metadata": {},
   "source": [
    "### 3D multichannel cells"
   ]
  },
  {
   "cell_type": "code",
   "execution_count": null,
   "id": "0140b861",
   "metadata": {},
   "outputs": [],
   "source": [
    "from skimage import data\n",
    "\n",
    "cells = data.cells3d()\n",
    "\n",
    "cells.shape"
   ]
  },
  {
   "cell_type": "code",
   "execution_count": null,
   "id": "ec633b57",
   "metadata": {},
   "outputs": [],
   "source": [
    "data.cells3d?"
   ]
  },
  {
   "cell_type": "code",
   "execution_count": null,
   "id": "fc973d57",
   "metadata": {},
   "outputs": [],
   "source": [
    "plt.imshow(cells)"
   ]
  },
  {
   "cell_type": "code",
   "execution_count": null,
   "id": "cb68b681",
   "metadata": {},
   "outputs": [],
   "source": [
    "viewer, layer = napari.imshow(\n",
    "        cells,\n",
    "        channel_axis=1,\n",
    "        scale=[0.29, 0.26, 0.26],\n",
    "        )"
   ]
  },
  {
   "cell_type": "markdown",
   "id": "10ed0f68-ac22-42b8-8033-244204474cbe",
   "metadata": {},
   "source": [
    "### CryoET Dynamo PCA analysis\n",
    "\n",
    "Credit: Alister Burt (currently at Genentech)"
   ]
  },
  {
   "cell_type": "code",
   "execution_count": null,
   "id": "c28cec2c-6799-419a-aa80-fa932311b841",
   "metadata": {},
   "outputs": [],
   "source": [
    "from pathlib import Path\n",
    "from functools import cached_property\n",
    "\n",
    "import pandas as pd\n",
    "import numpy as np\n",
    "import mrcfile\n",
    "\n",
    "\n",
    "class DPCAA:\n",
    "    def __init__(self, eigenvolumes_dir, eigentable_file):\n",
    "        self.eigenvolumes_dir = Path(eigenvolumes_dir)\n",
    "        self.eigentable_file = eigentable_file\n",
    "    \n",
    "    @cached_property\n",
    "    def eigenvolumes(self):\n",
    "        volume_files = list(self.eigenvolumes_dir.glob('*.mrc'))\n",
    "        df = pd.DataFrame({'path' : volume_files}).sort_values(by='path')\n",
    "        df['eigenvolume'] = df['path'].apply(lambda x: mrcfile.open(x).data)\n",
    "        eigenvolumes = np.stack(df['eigenvolume'])\n",
    "        return eigenvolumes\n",
    "\n",
    "    @cached_property\n",
    "    def eigentable(self):\n",
    "        return np.loadtxt(self.eigentable_file, delimiter=',')\n",
    "\n",
    "    def spectral_average_from_coefficients(self, coefficients, normalise=True):\n",
    "        coefficients = coefficients.squeeze()[..., np.newaxis, np.newaxis, np.newaxis]\n",
    "        spectral_average = (coefficients * self.eigenvolumes).sum(axis=-4)\n",
    "\n",
    "        if normalise:\n",
    "            spectral_average = self._normalise_volume(spectral_average)\n",
    "\n",
    "        return spectral_average\n",
    "\n",
    "    def spectral_average_from_idx(self, idx):\n",
    "        \"\"\"generate spectral average from particles at idx\n",
    "        \"\"\"\n",
    "        coefficients = self._coefficients_from_idx(idx)\n",
    "        return self.spectral_average_from_coefficients(coefficients)\n",
    "\n",
    "    def _coefficients_from_idx(self, idx):\n",
    "        \"\"\"generate coefficients from a set of particles at idx\n",
    "        \"\"\"\n",
    "        return self.eigentable[idx, :].sum(axis=0)\n",
    "\n",
    "    def _generate_volume_series(self, eig, n_bins=10, qcut=True):\n",
    "        eig_coefficients = self.eigentable[:, eig]\n",
    "\n",
    "        if qcut:\n",
    "            cut = pd.qcut(eig_coefficients, n_bins)\n",
    "        else:\n",
    "            cut = pd.cut(eig_coefficients, n_bins)\n",
    "\n",
    "        volumes = [self.spectral_average_from_idx(cut == subset) for subset in cut.categories]\n",
    "        return np.stack(volumes)\n",
    "\n",
    "    def _generate_volume_series_vectorised(self, eig, n_bins=10, qcut=True):\n",
    "        eig_coefficients = self.eigentable[:, eig]\n",
    "\n",
    "        if qcut:\n",
    "            cut = pd.qcut(eig_coefficients, n_bins)\n",
    "        else:\n",
    "            cut = pd.cut(eig_coefficients, n_bins)\n",
    "\n",
    "        coefficients = np.stack(\n",
    "            [self._coefficients_from_idx(cut == subset) for subset in cut.categories]\n",
    "        )\n",
    "        volumes = self.spectral_average_from_coefficients(coefficients)\n",
    "        return volumes\n",
    "\n",
    "    def _normalise_volume(self, volume):\n",
    "        \"\"\"independently normalise a stack of volumes to mean 0 standard deviation 1\n",
    "        \"\"\"\n",
    "        volume_axes = (-1, -2, -3)\n",
    "        volume_mean = np.expand_dims(volume.mean(axis=volume_axes), axis=volume_axes)\n",
    "        volume_std = np.expand_dims(volume.std(axis=volume_axes), axis=volume_axes)\n",
    "        return (volume - volume_mean) / volume_std\n"
   ]
  },
  {
   "cell_type": "code",
   "execution_count": null,
   "id": "be6f26cd-8940-4f5e-8f0b-a847c3bcf211",
   "metadata": {},
   "outputs": [],
   "source": [
    "from pathlib import Path\n",
    "\n",
    "folder = Path('WM4196')\n",
    "eigenvolumes = folder / 'eigenvolumes'\n",
    "eigentable = folder / 'eigentable.csv'\n",
    "\n",
    "pca = DPCAA(eigenvolumes_dir=eigenvolumes, eigentable_file=eigentable)\n",
    "\n",
    "viewer = napari.Viewer()\n",
    "\n",
    "n_bins = 10\n",
    "\n",
    "volumes = np.stack([\n",
    "        pca._generate_volume_series(comp, n_bins=n_bins, qcut=True)\n",
    "        for comp in range(50)\n",
    "        ])\n",
    "\n",
    "viewer.add_image(volumes)"
   ]
  },
  {
   "cell_type": "markdown",
   "id": "b80dd83f",
   "metadata": {},
   "source": [
    "## 2 – a *layered* viewer"
   ]
  },
  {
   "cell_type": "markdown",
   "id": "db451914-2ca0-45d3-b64f-6fed254dd2f7",
   "metadata": {},
   "source": [
    "### overlay images, segmentations, point detections, and more"
   ]
  },
  {
   "cell_type": "code",
   "execution_count": null,
   "id": "d6c36d67-b6dd-4a28-849d-ed72fda96532",
   "metadata": {},
   "outputs": [],
   "source": [
    "from skimage import data\n",
    "\n",
    "coins = data.coins()[50:-50, 50:-50]\n",
    "\n",
    "viewer, im_layer = napari.imshow(coins)"
   ]
  },
  {
   "cell_type": "code",
   "execution_count": null,
   "id": "cfd49702-8870-45bc-8bca-5faa1247de40",
   "metadata": {},
   "outputs": [],
   "source": [
    "from skimage import filters, measure, morphology, segmentation\n",
    "\n",
    "thresholded = filters.threshold_otsu(coins) < coins\n",
    "closed = morphology.closing(thresholded, morphology.square(4))\n",
    "no_border = segmentation.clear_border(closed)\n",
    "cleaned = morphology.remove_small_objects(no_border, 20)\n",
    "\n",
    "segmented = measure.label(cleaned).astype(np.uint8)\n",
    "\n",
    "label_layer = viewer.add_labels(segmented)"
   ]
  },
  {
   "cell_type": "code",
   "execution_count": null,
   "id": "7eb8a455-bec0-493d-96b3-fc134c017b13",
   "metadata": {},
   "outputs": [],
   "source": [
    "centroids = np.array([p.centroid for p in measure.regionprops(segmented)])\n",
    "pts_layer = viewer.add_points(centroids, size=5)"
   ]
  },
  {
   "cell_type": "code",
   "execution_count": null,
   "id": "7a013592-02a1-44b0-ae90-a075f3ce7bb7",
   "metadata": {},
   "outputs": [],
   "source": [
    "camera = data.camera()\n",
    "\n",
    "viewer, im_layer = napari.imshow(camera)"
   ]
  },
  {
   "cell_type": "code",
   "execution_count": null,
   "id": "5529294a-0048-4613-a57f-e4f73e2e88ac",
   "metadata": {},
   "outputs": [],
   "source": [
    "import pandas as pd\n",
    "\n",
    "bboxes = [  # format: top left, bottom right\n",
    "        [[67, 173], [201, 268]],\n",
    "        [[111, 240], [220, 336]],\n",
    "        ]\n",
    "\n",
    "features = pd.DataFrame({\n",
    "        'confidence': [100, 98.7221],\n",
    "        'class': ['face', 'camera'],\n",
    "        })\n",
    "\n",
    "text_params = {\n",
    "        'string': '{class}: {confidence:0.1f}%',  # f-string formatting\n",
    "        'anchor': 'upper_left',\n",
    "        'translation': [-5, 0],\n",
    "        'size': 8,\n",
    "        'color': 'magenta',\n",
    "        }\n",
    "\n",
    "shapes_layer = viewer.add_shapes(\n",
    "        bboxes,\n",
    "        features=features,\n",
    "        edge_width=3,\n",
    "        edge_color='magenta',\n",
    "        face_color='transparent',\n",
    "        text=text_params,\n",
    "        name='detections',\n",
    "        )\n"
   ]
  },
  {
   "cell_type": "markdown",
   "id": "df4d2e00",
   "metadata": {},
   "source": [
    "### cryoET particle picking refinement\n",
    "\n",
    "Credit: Alister Burt (currently at Genentech)\n",
    "\n",
    "Code: https://github.com/alisterburt/napari-cryo-et-demo  \n",
    "Data: https://www.ebi.ac.uk/empiar/EMPIAR-10164/"
   ]
  },
  {
   "cell_type": "code",
   "execution_count": null,
   "id": "c01d6e08-aeb2-4f6b-b98c-f33a6433fc11",
   "metadata": {},
   "outputs": [],
   "source": [
    "import mrcfile\n",
    "\n",
    "# files containing data\n",
    "tomogram_file = '/Users/jni/data/napari-cryo-et-demo/hiv/01_10.00Apx.mrc'\n",
    "particles_file = '/Users/jni/data/napari-cryo-et-demo/hiv/01_10.00Apx_particles.star'\n",
    "\n",
    "# loading data into memory\n",
    "# tomogram is a numpy array containing image array data\n",
    "with mrcfile.open(tomogram_file) as mrc:\n",
    "    tomogram = mrc.data.copy()\n",
    "\n",
    "viewer, tomo_layer = napari.imshow(\n",
    "        tomogram,\n",
    "        blending='translucent_no_depth',\n",
    "        colormap='gray_r',\n",
    "        )"
   ]
  },
  {
   "attachments": {
    "f72c8b2e-117d-44af-bf87-ff49f6c754ea.png": {
     "image/png": "[encoded data removed]"
    }
   },
   "cell_type": "markdown",
   "id": "7c6a663f-73b2-42ea-b969-6bf1979e8c23",
   "metadata": {},
   "source": [
    "![sphere picking](attachment:f72c8b2e-117d-44af-bf87-ff49f6c754ea.png)"
   ]
  },
  {
   "cell_type": "markdown",
   "id": "64b053fb-cdc0-4225-ad8e-58eebb0e2ae0",
   "metadata": {},
   "source": [
    "![sphere fitting](https://teamtomo.org/_images/hiv-oversampling1.png)\n",
    "\n",
    "from https://teamtomo.org/walkthroughs/EMPIAR-10164/geometrical-picking.html"
   ]
  },
  {
   "cell_type": "code",
   "execution_count": null,
   "id": "99953ba7-7e88-4aa5-b16d-4df37abe89a3",
   "metadata": {},
   "outputs": [],
   "source": [
    "import starfile\n",
    "from scipy.spatial.transform import Rotation as R\n",
    "\n",
    "# df is a pandas DataFrame containing table of info from STAR file\n",
    "# including positions and orientations\n",
    "df = starfile.read(particles_file)\n",
    "\n",
    "# get particle positions as (n, 3) numpy array from DataFrame\n",
    "zyx = df[\n",
    "        ['rlnCoordinateZ', 'rlnCoordinateY', 'rlnCoordinateX']\n",
    "        ].to_numpy()\n",
    "\n",
    "pts_layer = viewer.add_points(\n",
    "        zyx,\n",
    "        face_color='cornflowerblue',\n",
    "        size=10,\n",
    "        )"
   ]
  },
  {
   "cell_type": "code",
   "execution_count": null,
   "id": "07a496c2-d640-43c8-a479-9d7ab3e538f7",
   "metadata": {},
   "outputs": [],
   "source": [
    "# get particle orientations as Euler angles from DataFrame\n",
    "euler_angles = df[\n",
    "        ['rlnAngleRot', 'rlnAngleTilt', 'rlnAnglePsi']\n",
    "        ].to_numpy()\n",
    "\n",
    "# turn Euler angles into a scipy 'Rotation' object, rotate Z vectors to see\n",
    "# where they point for the aligned particle\n",
    "rotations = R.from_euler(\n",
    "        seq='ZYZ', angles=euler_angles, degrees=True\n",
    "        ).inv()\n",
    "direction_xyz = rotations.apply([0, 0, 1])\n",
    "direction_zyx = direction_xyz[:, ::-1]\n",
    "\n",
    "# set up napari vectors layer data\n",
    "# (n, 2, 3) array\n",
    "# dim 0: batch dimension\n",
    "# dim 1: first row is start point of vector,\n",
    "#        second is direction vector\n",
    "# dim 2: components of direction vector e.g. (z, y, x)\n",
    "\n",
    "vectors = np.stack((zyx, direction_zyx), axis=1)\n",
    "\n",
    "vec_layer = viewer.add_vectors(\n",
    "        vectors, length=10, edge_color='orange'\n",
    "        )"
   ]
  },
  {
   "cell_type": "markdown",
   "id": "e5d2fda0-9522-4c13-80d8-3b0ef6e7ce4e",
   "metadata": {},
   "source": [
    "![reconstruction](https://teamtomo.org/_images/result2.png)\n",
    "\n",
    "from https://teamtomo.org/walkthroughs/EMPIAR-10164/m.html"
   ]
  },
  {
   "cell_type": "markdown",
   "id": "82ab5067-5d22-40e5-9344-460e33132e7f",
   "metadata": {},
   "source": [
    "## 3 – an *annotation* and *proofreading* tool"
   ]
  },
  {
   "cell_type": "markdown",
   "id": "121aa544-38eb-400e-a561-755aca6ff06b",
   "metadata": {},
   "source": [
    "### interactive segmentation of 3D cells\n",
    "\n",
    "Semi-automated methods in Python."
   ]
  },
  {
   "cell_type": "code",
   "execution_count": null,
   "id": "73e229bc",
   "metadata": {},
   "outputs": [],
   "source": [
    "viewer, (membrane_layer, nuclei_layer) = napari.imshow(\n",
    "        cells,\n",
    "        channel_axis=1,\n",
    "        name=['membrane', 'nuclei'],\n",
    "        )"
   ]
  },
  {
   "cell_type": "code",
   "execution_count": null,
   "id": "6f45942e",
   "metadata": {},
   "outputs": [],
   "source": [
    "# grab individual channels and convert to float in [0, 1]\n",
    "\n",
    "membranes = cells[:, 0, :, :] / np.max(cells)\n",
    "nuclei = cells[:, 1, :, :] / np.max(cells)"
   ]
  },
  {
   "cell_type": "code",
   "execution_count": null,
   "id": "9579331d",
   "metadata": {},
   "outputs": [],
   "source": [
    "from skimage import filters\n",
    "\n",
    "\n",
    "edges = filters.farid(nuclei)\n",
    "\n",
    "edges_layer = viewer.add_image(\n",
    "        edges,\n",
    "        blending='additive',\n",
    "        colormap='yellow',\n",
    "        )"
   ]
  },
  {
   "cell_type": "code",
   "execution_count": null,
   "id": "25e4a322",
   "metadata": {},
   "outputs": [],
   "source": [
    "from scipy import ndimage as ndi\n",
    "\n",
    "denoised = ndi.median_filter(nuclei, size=3)"
   ]
  },
  {
   "cell_type": "code",
   "execution_count": null,
   "id": "4b6fcdc0",
   "metadata": {},
   "outputs": [],
   "source": [
    "li_thresholded = denoised > filters.threshold_li(denoised)\n",
    "\n",
    "threshold_layer = viewer.add_image(\n",
    "        li_thresholded,\n",
    "        opacity=0.3,\n",
    "        )"
   ]
  },
  {
   "cell_type": "code",
   "execution_count": null,
   "id": "48a87fc4",
   "metadata": {},
   "outputs": [],
   "source": [
    "from skimage import morphology\n",
    "\n",
    "width = 20\n",
    "\n",
    "holes_removed = morphology.remove_small_holes(\n",
    "        li_thresholded, width ** 3\n",
    "        )\n",
    "\n",
    "speckle_removed = morphology.remove_small_objects(\n",
    "        holes_removed, width ** 3\n",
    "        )\n",
    "\n",
    "viewer.layers[-1].visible = False\n",
    "\n",
    "viewer.add_image(\n",
    "        speckle_removed,\n",
    "        name='cleaned',\n",
    "        opacity=0.3,\n",
    "        );"
   ]
  },
  {
   "cell_type": "code",
   "execution_count": null,
   "id": "1cd018cc",
   "metadata": {},
   "outputs": [],
   "source": [
    "from skimage import measure\n",
    "\n",
    "labels = measure.label(speckle_removed)\n",
    "\n",
    "viewer.layers[-1].visible = False\n",
    "viewer.add_labels(\n",
    "        labels,\n",
    "        opacity=0.5,\n",
    "        blending='translucent_no_depth'\n",
    "        )\n"
   ]
  },
  {
   "cell_type": "code",
   "execution_count": null,
   "id": "958627fe",
   "metadata": {},
   "outputs": [],
   "source": [
    "# Sean's solution\n",
    "from scipy import ndimage as ndi\n",
    "from skimage.feature import peak_local_max\n",
    "\n",
    "spacing = [0.29, 0.26, 0.26]\n",
    "distances = ndi.distance_transform_edt(\n",
    "    speckle_removed, sampling=spacing\n",
    ")\n",
    "dt_smoothed = filters.gaussian(distances, sigma=5)\n",
    "peaks = peak_local_max(dt_smoothed, min_distance=5)\n",
    "\n",
    "pts_layer = viewer.add_points(\n",
    "        peaks,\n",
    "        name=\"sean's points\",\n",
    "        size=4,\n",
    "        n_dimensional=True,  # points have 3D \"extent\"\n",
    "        )"
   ]
  },
  {
   "cell_type": "code",
   "execution_count": null,
   "id": "e2ca21fe",
   "metadata": {},
   "outputs": [],
   "source": [
    "points_data = pts_layer.data\n",
    "points_data"
   ]
  },
  {
   "cell_type": "code",
   "execution_count": null,
   "id": "e881f2eb",
   "metadata": {},
   "outputs": [],
   "source": [
    "from skimage import segmentation, util\n",
    "\n",
    "markers = util.label_points(points_data, nuclei.shape)\n",
    "markers_big = morphology.dilation(markers, morphology.ball(5))\n",
    "\n",
    "segmented = segmentation.watershed(\n",
    "        edges, markers_big, mask=speckle_removed,\n",
    "        )\n",
    "\n",
    "seg_layer = viewer.add_labels(\n",
    "        segmented, blending='translucent_no_depth',\n",
    "        )\n",
    "\n",
    "viewer.layers['labels'].visible = False"
   ]
  },
  {
   "cell_type": "markdown",
   "id": "77141a50",
   "metadata": {},
   "source": [
    "## 4.1 – a *lazy* viewer"
   ]
  },
  {
   "cell_type": "markdown",
   "id": "2d3f0efc",
   "metadata": {},
   "source": [
    "Tribolium castaneum light sheet microscopy data from the [Cell tracking challenge](http://celltrackingchallenge.net/3d-datasets/) contributed by Akanksha Jain, MPI-CBG Dresden."
   ]
  },
  {
   "cell_type": "code",
   "execution_count": null,
   "id": "0b0e8879",
   "metadata": {},
   "outputs": [],
   "source": [
    "import zarr\n",
    "\n",
    "image = zarr.open('/Users/jni/data/Fluo-N3DL-TRIF/01.ome.zarr/0/')\n",
    "\n",
    "print(f'{image.nbytes / 1e9:.0f}GB')"
   ]
  },
  {
   "cell_type": "code",
   "execution_count": null,
   "id": "bfcae9c7",
   "metadata": {},
   "outputs": [],
   "source": [
    "print(image.shape)"
   ]
  },
  {
   "cell_type": "code",
   "execution_count": null,
   "id": "fe04b3fa",
   "metadata": {},
   "outputs": [],
   "source": [
    "print(image.chunks)"
   ]
  },
  {
   "cell_type": "code",
   "execution_count": null,
   "id": "c15f719d",
   "metadata": {},
   "outputs": [],
   "source": [
    "viewer, layer = napari.imshow(image)"
   ]
  },
  {
   "cell_type": "code",
   "execution_count": null,
   "id": "93fdb381",
   "metadata": {},
   "outputs": [],
   "source": [
    "layer.contrast_limits"
   ]
  },
  {
   "cell_type": "code",
   "execution_count": null,
   "id": "36926d9b",
   "metadata": {},
   "outputs": [],
   "source": [
    "layer.contrast_limits = 1000, 6000"
   ]
  },
  {
   "cell_type": "code",
   "execution_count": null,
   "id": "74a6807b",
   "metadata": {},
   "outputs": [],
   "source": [
    "layer.colormap = 'magma'"
   ]
  },
  {
   "cell_type": "markdown",
   "id": "7550afcd",
   "metadata": {},
   "source": [
    "## 4.2 – a *multiscale* viewer"
   ]
  },
  {
   "cell_type": "code",
   "execution_count": null,
   "id": "d9b37d16",
   "metadata": {},
   "outputs": [],
   "source": [
    "image1 = zarr.open('/Users/jni/data/Fluo-N3DL-TRIF/01.ome.zarr/1/')\n",
    "image2 = zarr.open('/Users/jni/data/Fluo-N3DL-TRIF/01.ome.zarr/2/')\n",
    "\n",
    "viewer, layer = napari.imshow(\n",
    "        [image, image1, image2],\n",
    "        rendering='attenuated_mip',\n",
    "        name='tribolium',\n",
    "        )"
   ]
  },
  {
   "cell_type": "code",
   "execution_count": null,
   "id": "254a9113",
   "metadata": {},
   "outputs": [],
   "source": [
    "layer.contrast_limits = 1000, 6000"
   ]
  },
  {
   "cell_type": "markdown",
   "id": "08545456",
   "metadata": {},
   "source": [
    "## 4.3 – lazy annotation 🦥🎨, thank you zarr! 🧊❤️🙏"
   ]
  },
  {
   "cell_type": "code",
   "execution_count": null,
   "id": "f22c6a07",
   "metadata": {},
   "outputs": [],
   "source": [
    "type(image), image.shape, image.nbytes / 1e9"
   ]
  },
  {
   "cell_type": "code",
   "execution_count": null,
   "id": "57492adb",
   "metadata": {},
   "outputs": [],
   "source": [
    "viewer = napari.Viewer()\n",
    "layer_multi = viewer.add_image(\n",
    "        [image, image1, image2],\n",
    "        rendering='attenuated_mip',\n",
    "        name='tribolium',\n",
    "        )\n",
    "\n",
    "labels = zarr.open(\n",
    "        '/Users/jni/data/Fluo-N3DL-TRIF/01-labels.zarr',\n",
    "        dtype=np.uint32,\n",
    "        shape=image.shape,\n",
    "        write_empty_chunks=False,\n",
    "        chunks=image.chunks,\n",
    "        )"
   ]
  },
  {
   "cell_type": "code",
   "execution_count": null,
   "id": "0aed834d",
   "metadata": {},
   "outputs": [],
   "source": [
    "!ls -a /Users/jni/data/Fluo-N3DL-TRIF/"
   ]
  },
  {
   "cell_type": "code",
   "execution_count": null,
   "id": "76e74bb4",
   "metadata": {},
   "outputs": [],
   "source": [
    "!ls -a /Users/jni/data/Fluo-N3DL-TRIF/01-labels.zarr"
   ]
  },
  {
   "cell_type": "code",
   "execution_count": null,
   "id": "c5308182",
   "metadata": {},
   "outputs": [],
   "source": [
    "labels.shape"
   ]
  },
  {
   "cell_type": "code",
   "execution_count": null,
   "id": "2f17ea4a",
   "metadata": {},
   "outputs": [],
   "source": [
    "layer = viewer.add_labels(labels)"
   ]
  },
  {
   "cell_type": "code",
   "execution_count": null,
   "id": "deab49bf",
   "metadata": {},
   "outputs": [],
   "source": [
    "!ls -a /Users/jni/data/Fluo-N3DL-TRIF/01-labels.zarr"
   ]
  },
  {
   "cell_type": "code",
   "execution_count": null,
   "id": "7d20d1a9",
   "metadata": {},
   "outputs": [],
   "source": [
    "!rm -rf /Users/jni/data/Fluo-N3DL-TRIF/01-labels.zarr"
   ]
  },
  {
   "cell_type": "markdown",
   "id": "87fc2185",
   "metadata": {},
   "source": [
    "## 5 – plays well with others"
   ]
  },
  {
   "cell_type": "markdown",
   "id": "ec08670a",
   "metadata": {},
   "source": [
    "napariboard"
   ]
  },
  {
   "cell_type": "code",
   "execution_count": null,
   "id": "582b5d32",
   "metadata": {},
   "outputs": [],
   "source": [
    "!python /Users/jni/projects/napariboard-proto/napariboard.py"
   ]
  },
  {
   "cell_type": "markdown",
   "id": "afc69b12",
   "metadata": {},
   "source": [
    "## 6 – extensible with plugins"
   ]
  },
  {
   "cell_type": "markdown",
   "id": "244f196c-459c-4a0a-88a6-ef519adceae6",
   "metadata": {},
   "source": [
    "## napari-ome-zarr"
   ]
  },
  {
   "cell_type": "code",
   "execution_count": null,
   "id": "06e066e6",
   "metadata": {},
   "outputs": [],
   "source": [
    "viewer = napari.Viewer()"
   ]
  },
  {
   "cell_type": "code",
   "execution_count": null,
   "id": "284450dd",
   "metadata": {},
   "outputs": [],
   "source": [
    "viewer.open(\n",
    "        '/Users/jni/data/Fluo-N3DL-TRIF/01.ome.zarr',\n",
    "        plugin='napari-ome-zarr',\n",
    "        )"
   ]
  },
  {
   "cell_type": "markdown",
   "id": "b7109e59",
   "metadata": {},
   "source": [
    "napari-pdf-reader (I shit you not 😂)"
   ]
  },
  {
   "cell_type": "code",
   "execution_count": null,
   "id": "f3a21ee8",
   "metadata": {},
   "outputs": [],
   "source": [
    "viewer = napari.Viewer()\n",
    "\n",
    "pdf_layer, = viewer.open('data/project_jupyter.pdf', plugin='napari-pdf-reader')"
   ]
  },
  {
   "cell_type": "code",
   "execution_count": null,
   "id": "7a68610c-a347-4d25-acdc-369cb77a145c",
   "metadata": {},
   "outputs": [],
   "source": [
    "from skimage import color\n",
    "\n",
    "pdfbw = color.rgb2gray(pdf_layer.data)\n",
    "pdf_layer.visible = False\n",
    "pdfbw_layer = viewer.add_image(\n",
    "        pdfbw[:, ::2, ::2],\n",
    "        scale=(2, 2, 2),\n",
    "        rendering='translucent',\n",
    "        )\n",
    "viewer.dims.ndisplay = 3"
   ]
  },
  {
   "cell_type": "code",
   "execution_count": null,
   "id": "9b76a8d5-9092-42d8-9357-9dc05345953e",
   "metadata": {},
   "outputs": [],
   "source": [
    "from magicgui import magicgui, widgets\n",
    "\n",
    "@magicgui(\n",
    "        shear={'widget_type': widgets.FloatSlider,\n",
    "               'min': 0,\n",
    "               'max': pdfbw.shape[1]},\n",
    "        auto_call=True,\n",
    "        )\n",
    "def set_layer_xz_shear(shear: float):\n",
    "    pdfbw_layer.affine = [\n",
    "            [1    , 0, 0, 0],\n",
    "            [0    , 1, 0, 0],\n",
    "            [shear, 0, 1, 0],\n",
    "            [0    , 0, 0, 1],\n",
    "            ]\n",
    "\n",
    "dw = viewer.window.add_dock_widget(set_layer_xz_shear);"
   ]
  },
  {
   "cell_type": "code",
   "execution_count": null,
   "id": "d5dafbaf-b451-471c-8698-247bc82bad8d",
   "metadata": {},
   "outputs": [],
   "source": []
  }
 ],
 "metadata": {
  "kernelspec": {
   "display_name": "Python 3 (ipykernel)",
   "language": "python",
   "name": "python3"
  },
  "language_info": {
   "codemirror_mode": {
    "name": "ipython",
    "version": 3
   },
   "file_extension": ".py",
   "mimetype": "text/x-python",
   "name": "python",
   "nbconvert_exporter": "python",
   "pygments_lexer": "ipython3",
   "version": "3.12.4"
  }
 },
 "nbformat": 4,
 "nbformat_minor": 5
}
